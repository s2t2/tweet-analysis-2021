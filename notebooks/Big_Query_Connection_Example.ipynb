{
  "nbformat": 4,
  "nbformat_minor": 0,
  "metadata": {
    "colab": {
      "name": "Big Query Connection Example ",
      "provenance": [],
      "collapsed_sections": [
        "Xy-Oy7V3jbAT"
      ],
      "toc_visible": true,
      "authorship_tag": "ABX9TyNUlc8vhV4sE8WBsOYywkdh",
      "include_colab_link": true
    },
    "kernelspec": {
      "name": "python3",
      "display_name": "Python 3"
    }
  },
  "cells": [
    {
      "cell_type": "markdown",
      "metadata": {
        "id": "view-in-github",
        "colab_type": "text"
      },
      "source": [
        "<a href=\"https://colab.research.google.com/github/s2t2/tweet-analysis-2021/blob/main/notebooks/Big_Query_Connection_Example.ipynb\" target=\"_parent\"><img src=\"https://colab.research.google.com/assets/colab-badge.svg\" alt=\"Open In Colab\"/></a>"
      ]
    },
    {
      "cell_type": "markdown",
      "metadata": {
        "id": "_-39w0IS18f-"
      },
      "source": [
        "This notebook demonstrates how to query a BigQuery database directly from a Colab notebook."
      ]
    },
    {
      "cell_type": "markdown",
      "metadata": {
        "id": "Ymoi-E5OjZD5"
      },
      "source": [
        "# Setup"
      ]
    },
    {
      "cell_type": "markdown",
      "metadata": {
        "id": "Xy-Oy7V3jbAT"
      },
      "source": [
        "## Mounting the Drive"
      ]
    },
    {
      "cell_type": "code",
      "metadata": {
        "colab": {
          "base_uri": "https://localhost:8080/"
        },
        "id": "bG_NZo7ZgAau",
        "outputId": "773987c2-0fd3-4e6c-806b-2b6d478d0608"
      },
      "source": [
        "import os\n",
        "\n",
        "from google.colab import drive\n",
        "\n",
        "drive.mount('/content/drive')\n",
        "print(os.listdir(os.getcwd())) "
      ],
      "execution_count": 74,
      "outputs": [
        {
          "output_type": "stream",
          "text": [
            "Drive already mounted at /content/drive; to attempt to forcibly remount, call drive.mount(\"/content/drive\", force_remount=True).\n",
            "['.config', 'drive', 'sample_data']\n"
          ],
          "name": "stdout"
        }
      ]
    },
    {
      "cell_type": "code",
      "metadata": {
        "colab": {
          "base_uri": "https://localhost:8080/"
        },
        "id": "ymjYWDkkg1qM",
        "outputId": "efcd33cd-a441-417b-d1e1-d7e86e113648"
      },
      "source": [
        "DIRPATH = '/content/drive/My Drive/Research/Tweet Analysis 2021'\n",
        "print(DIRPATH)\n",
        "os.path.isdir(DIRPATH)"
      ],
      "execution_count": 75,
      "outputs": [
        {
          "output_type": "stream",
          "text": [
            "/content/drive/My Drive/Research/Tweet Analysis 2021\n"
          ],
          "name": "stdout"
        },
        {
          "output_type": "execute_result",
          "data": {
            "text/plain": [
              "True"
            ]
          },
          "metadata": {
            "tags": []
          },
          "execution_count": 75
        }
      ]
    },
    {
      "cell_type": "markdown",
      "metadata": {
        "id": "zRq45RoMjgeg"
      },
      "source": [
        "## Configuring Credentials \n"
      ]
    },
    {
      "cell_type": "code",
      "metadata": {
        "colab": {
          "base_uri": "https://localhost:8080/"
        },
        "id": "ZLXfpXHHiBJC",
        "outputId": "38553439-e536-4eb4-b5a8-92812701f802"
      },
      "source": [
        "# google.cloud checks the file at path designated by the GOOGLE_APPLICATION_CREDENTIALS env var\n",
        "# so we set it here using the shared credentials JSON file from our shared google drive\n",
        "# and verify it for good measure\n",
        "\n",
        "os.environ[\"GOOGLE_APPLICATION_CREDENTIALS\"] = os.path.join(DIRPATH, \"credentials\", \"tweet-research-shared-268bbccc0aac.json\") \n",
        "\n",
        "GOOGLE_APPLICATION_CREDENTIALS = os.getenv(\"GOOGLE_APPLICATION_CREDENTIALS\") # implicit check by google.cloud\n",
        "print(GOOGLE_APPLICATION_CREDENTIALS) # verification for implicit check\n",
        "print(os.path.isfile(GOOGLE_APPLICATION_CREDENTIALS)) # verification for implicit check"
      ],
      "execution_count": 76,
      "outputs": [
        {
          "output_type": "stream",
          "text": [
            "/content/drive/My Drive/Research/Tweet Analysis 2021/credentials/tweet-research-shared-268bbccc0aac.json\n",
            "True\n"
          ],
          "name": "stdout"
        }
      ]
    },
    {
      "cell_type": "markdown",
      "metadata": {
        "id": "ltGBbXFpmTA6"
      },
      "source": [
        "# Helpers"
      ]
    },
    {
      "cell_type": "markdown",
      "metadata": {
        "id": "D7AHRh645FX3"
      },
      "source": [
        "### BigQuery Service"
      ]
    },
    {
      "cell_type": "code",
      "metadata": {
        "id": "yOz8eD9JkA7-"
      },
      "source": [
        "\n",
        "from google.cloud import bigquery\n",
        "\n",
        "class BigQueryService():\n",
        "    def __init__(self):\n",
        "        self.client = bigquery.Client()\n",
        "\n",
        "    def execute_query(self, sql, verbose=True):\n",
        "        if verbose == True: \n",
        "            print(sql)\n",
        "        job = self.client.query(sql)\n",
        "        return job.result()\n"
      ],
      "execution_count": 77,
      "outputs": []
    },
    {
      "cell_type": "code",
      "metadata": {
        "colab": {
          "base_uri": "https://localhost:8080/"
        },
        "id": "-qBZo9ezksZz",
        "outputId": "d571d4a9-9d9b-4123-8857-12f913d7c466"
      },
      "source": [
        "bq_service = BigQueryService()\n",
        "print(bq_service)"
      ],
      "execution_count": 78,
      "outputs": [
        {
          "output_type": "stream",
          "text": [
            "<__main__.BigQueryService object at 0x7f5a75766e80>\n"
          ],
          "name": "stdout"
        }
      ]
    },
    {
      "cell_type": "markdown",
      "metadata": {
        "id": "ZBiJ4DRL54PN"
      },
      "source": [
        "## Number Decorators"
      ]
    },
    {
      "cell_type": "code",
      "metadata": {
        "id": "GXS2vsfI53Rv"
      },
      "source": [
        "def fmt_n(large_number):\n",
        "    \"\"\"\n",
        "    Formats a large number with thousands separator, for printing and logging.\n",
        "\n",
        "    Param large_number (int) like 1_000_000_000\n",
        "\n",
        "    Returns (str) like '1,000,000,000'\n",
        "    \"\"\"\n",
        "    return f\"{large_number:,.0f}\"\n"
      ],
      "execution_count": 79,
      "outputs": []
    },
    {
      "cell_type": "markdown",
      "metadata": {
        "id": "4t48ewACjXQy"
      },
      "source": [
        "# Usage"
      ]
    },
    {
      "cell_type": "markdown",
      "metadata": {
        "id": "CLgDP3MC1KP1"
      },
      "source": [
        "## Querying the Disinformation Tweets Table"
      ]
    },
    {
      "cell_type": "markdown",
      "metadata": {
        "id": "GF6DYkto6ojp"
      },
      "source": [
        "Counting number of users and tweets:"
      ]
    },
    {
      "cell_type": "code",
      "metadata": {
        "colab": {
          "base_uri": "https://localhost:8080/"
        },
        "id": "qge9ynDmjVsE",
        "outputId": "3fd4f349-a041-4d01-9751-362b2c7ee5e4"
      },
      "source": [
        "print(\"------------\")\n",
        "print(\"QUERY:\")\n",
        "sql = \"\"\"\n",
        "    SELECT \n",
        "        count(distinct status_id) as status_count \n",
        "        ,count(distinct user_id) as user_count\n",
        "    FROM `tweet-research-shared.disinfo_2021.tweets_view` t\n",
        "\"\"\"\n",
        "\n",
        "results = list(bq_service.execute_query(sql, verbose=True))\n",
        "results = dict(results[0])\n",
        "print(\"------------\")\n",
        "print(\"RESULTS...\")\n",
        "print(\"TWEETS:\", fmt_n(results[\"status_count\"]))\n",
        "print(\"USERS:\", fmt_n(results[\"user_count\"]))\n"
      ],
      "execution_count": 80,
      "outputs": [
        {
          "output_type": "stream",
          "text": [
            "------------\n",
            "QUERY:\n",
            "\n",
            "    SELECT \n",
            "        count(distinct status_id) as status_count \n",
            "        ,count(distinct user_id) as user_count\n",
            "    FROM `tweet-research-shared.disinfo_2021.tweets_view` t\n",
            "\n",
            "------------\n",
            "RESULTS...\n",
            "TWEETS: 1,075,351\n",
            "USERS: 349,590\n"
          ],
          "name": "stdout"
        }
      ]
    },
    {
      "cell_type": "markdown",
      "metadata": {
        "id": "8SHiuVZ66son"
      },
      "source": [
        "Fetching some example tweets:"
      ]
    },
    {
      "cell_type": "code",
      "metadata": {
        "colab": {
          "base_uri": "https://localhost:8080/"
        },
        "id": "8kYyTr0E5VyN",
        "outputId": "b528c101-a7ef-46ec-e797-56c9055cbcb3"
      },
      "source": [
        "print(\"------------\")\n",
        "print(\"QUERY:\")\n",
        "sql = \"\"\"\n",
        "    SELECT *\n",
        "    FROM `tweet-research-shared.disinfo_2021.tweets_view` t\n",
        "    LIMIT 10\n",
        "\"\"\"\n",
        "\n",
        "records = [dict(row) for row in list(bq_service.execute_query(sql, verbose=True))]\n",
        "print(\"------------\")\n",
        "print(\"RESULTS:\" , len(records))\n"
      ],
      "execution_count": 81,
      "outputs": [
        {
          "output_type": "stream",
          "text": [
            "------------\n",
            "QUERY:\n",
            "\n",
            "    SELECT *\n",
            "    FROM `tweet-research-shared.disinfo_2021.tweets_view` t\n",
            "    LIMIT 10\n",
            "\n",
            "------------\n",
            "RESULTS: 10\n"
          ],
          "name": "stdout"
        }
      ]
    },
    {
      "cell_type": "code",
      "metadata": {
        "colab": {
          "base_uri": "https://localhost:8080/",
          "height": 750
        },
        "id": "J_HHDj5uobag",
        "outputId": "55675745-d6ee-4426-c2f4-46a63832706a"
      },
      "source": [
        "\n",
        "from pandas import DataFrame\n",
        "\n",
        "df = DataFrame(records)\n",
        "df"
      ],
      "execution_count": 82,
      "outputs": [
        {
          "output_type": "execute_result",
          "data": {
            "text/html": [
              "<div>\n",
              "<style scoped>\n",
              "    .dataframe tbody tr th:only-of-type {\n",
              "        vertical-align: middle;\n",
              "    }\n",
              "\n",
              "    .dataframe tbody tr th {\n",
              "        vertical-align: top;\n",
              "    }\n",
              "\n",
              "    .dataframe thead th {\n",
              "        text-align: right;\n",
              "    }\n",
              "</style>\n",
              "<table border=\"1\" class=\"dataframe\">\n",
              "  <thead>\n",
              "    <tr style=\"text-align: right;\">\n",
              "      <th></th>\n",
              "      <th>status_id</th>\n",
              "      <th>status_text</th>\n",
              "      <th>truncated</th>\n",
              "      <th>retweeted_status_id</th>\n",
              "      <th>retweeted_user_id</th>\n",
              "      <th>retweeted_user_screen_name</th>\n",
              "      <th>reply_status_id</th>\n",
              "      <th>reply_user_id</th>\n",
              "      <th>is_quote</th>\n",
              "      <th>geo</th>\n",
              "      <th>created_at</th>\n",
              "      <th>user_id</th>\n",
              "      <th>user_name</th>\n",
              "      <th>user_screen_name</th>\n",
              "      <th>user_description</th>\n",
              "      <th>user_location</th>\n",
              "      <th>user_verified</th>\n",
              "      <th>user_created_at</th>\n",
              "    </tr>\n",
              "  </thead>\n",
              "  <tbody>\n",
              "    <tr>\n",
              "      <th>0</th>\n",
              "      <td>1354593218223104003</td>\n",
              "      <td>RT @BigBlueWaveUSA: #MarjorieTaylorGreene is e...</td>\n",
              "      <td>False</td>\n",
              "      <td>1354592005645451266</td>\n",
              "      <td>979212105533440000</td>\n",
              "      <td>BigBlueWaveUSA</td>\n",
              "      <td>None</td>\n",
              "      <td>None</td>\n",
              "      <td>False</td>\n",
              "      <td>None</td>\n",
              "      <td>2021-01-28 00:52:45+00:00</td>\n",
              "      <td>727637976377864192</td>\n",
              "      <td>DREW</td>\n",
              "      <td>drew4711700</td>\n",
              "      <td>ABOLITIONIST $DREW1700  Iraq War VET/WARHORSE</td>\n",
              "      <td>IN THE WORLD</td>\n",
              "      <td>False</td>\n",
              "      <td>2016-05-03 23:16:27+00:00</td>\n",
              "    </tr>\n",
              "    <tr>\n",
              "      <th>1</th>\n",
              "      <td>1354552038873575426</td>\n",
              "      <td>RT @MalcolmNance: VIDEO: Dutch Q-Anon/anti-vax...</td>\n",
              "      <td>False</td>\n",
              "      <td>1354344326931877890</td>\n",
              "      <td>2573480784</td>\n",
              "      <td>MalcolmNance</td>\n",
              "      <td>None</td>\n",
              "      <td>None</td>\n",
              "      <td>False</td>\n",
              "      <td>None</td>\n",
              "      <td>2021-01-27 22:09:07+00:00</td>\n",
              "      <td>697442340659556353</td>\n",
              "      <td>Victor Collazo</td>\n",
              "      <td>JR23910</td>\n",
              "      <td>Free spirit, animal lover, follow politics, lo...</td>\n",
              "      <td>United States</td>\n",
              "      <td>False</td>\n",
              "      <td>2016-02-10 15:29:46+00:00</td>\n",
              "    </tr>\n",
              "    <tr>\n",
              "      <th>2</th>\n",
              "      <td>1354516279483371522</td>\n",
              "      <td>RT @NHarris956: A reporter asked Jen Psaki dur...</td>\n",
              "      <td>False</td>\n",
              "      <td>1354495623333109764</td>\n",
              "      <td>736166748</td>\n",
              "      <td>NHarris956</td>\n",
              "      <td>None</td>\n",
              "      <td>None</td>\n",
              "      <td>False</td>\n",
              "      <td>None</td>\n",
              "      <td>2021-01-27 19:47:01+00:00</td>\n",
              "      <td>2846554691</td>\n",
              "      <td>Faridah</td>\n",
              "      <td>faridahmalik55</td>\n",
              "      <td>“ J’ai Baisé Ta Bouche, Iokanaan “</td>\n",
              "      <td>None</td>\n",
              "      <td>False</td>\n",
              "      <td>2014-10-27 11:22:39+00:00</td>\n",
              "    </tr>\n",
              "    <tr>\n",
              "      <th>3</th>\n",
              "      <td>1354519570334117888</td>\n",
              "      <td>RT @RubenBolling: \"Goya board silences its CEO...</td>\n",
              "      <td>False</td>\n",
              "      <td>1354190345328881665</td>\n",
              "      <td>17212474</td>\n",
              "      <td>RubenBolling</td>\n",
              "      <td>None</td>\n",
              "      <td>None</td>\n",
              "      <td>False</td>\n",
              "      <td>None</td>\n",
              "      <td>2021-01-27 20:00:05+00:00</td>\n",
              "      <td>89985399</td>\n",
              "      <td>iMarcosSoup🏳️‍🌈</td>\n",
              "      <td>markcsoup</td>\n",
              "      <td>Disfruta la vida al máximo! Soy mejor de lo qu...</td>\n",
              "      <td>México / USA</td>\n",
              "      <td>False</td>\n",
              "      <td>2009-11-14 17:55:52+00:00</td>\n",
              "    </tr>\n",
              "    <tr>\n",
              "      <th>4</th>\n",
              "      <td>1354577795175903236</td>\n",
              "      <td>RT @jstxvbz: \"Starting strong is good. Finishi...</td>\n",
              "      <td>False</td>\n",
              "      <td>1353879991356973057</td>\n",
              "      <td>1353503194693963788</td>\n",
              "      <td>jstxvbz</td>\n",
              "      <td>None</td>\n",
              "      <td>None</td>\n",
              "      <td>False</td>\n",
              "      <td>None</td>\n",
              "      <td>2021-01-27 23:51:27+00:00</td>\n",
              "      <td>1348838681218572291</td>\n",
              "      <td>DEPLORABLE CHUMP🇺🇸</td>\n",
              "      <td>jojodan11592387</td>\n",
              "      <td>LOVE MY COUNTRY❤️TRUE TO AMERICAN VALUES❤️TRUE...</td>\n",
              "      <td>None</td>\n",
              "      <td>False</td>\n",
              "      <td>2021-01-12 03:47:01+00:00</td>\n",
              "    </tr>\n",
              "    <tr>\n",
              "      <th>5</th>\n",
              "      <td>1354556968514404352</td>\n",
              "      <td>RT @OliviaTroye: Glad @DHSgov is finally allow...</td>\n",
              "      <td>False</td>\n",
              "      <td>1354556505127866370</td>\n",
              "      <td>2329492448</td>\n",
              "      <td>OliviaTroye</td>\n",
              "      <td>None</td>\n",
              "      <td>None</td>\n",
              "      <td>False</td>\n",
              "      <td>None</td>\n",
              "      <td>2021-01-27 22:28:42+00:00</td>\n",
              "      <td>2573493463</td>\n",
              "      <td>Delaney Madison @🏠🌊</td>\n",
              "      <td>DMGrill</td>\n",
              "      <td>Graphic/Fine artist. Married-no flirty DMs. Po...</td>\n",
              "      <td>Upper Left Coast, USA ☔️💦</td>\n",
              "      <td>False</td>\n",
              "      <td>2014-06-17 19:52:59+00:00</td>\n",
              "    </tr>\n",
              "    <tr>\n",
              "      <th>6</th>\n",
              "      <td>1354556633708302341</td>\n",
              "      <td>RT @OliviaTroye: Glad @DHSgov is finally allow...</td>\n",
              "      <td>False</td>\n",
              "      <td>1354556505127866370</td>\n",
              "      <td>2329492448</td>\n",
              "      <td>OliviaTroye</td>\n",
              "      <td>None</td>\n",
              "      <td>None</td>\n",
              "      <td>False</td>\n",
              "      <td>None</td>\n",
              "      <td>2021-01-27 22:27:22+00:00</td>\n",
              "      <td>977727697018281984</td>\n",
              "      <td>sthitchtwit</td>\n",
              "      <td>sthitchtwit</td>\n",
              "      <td>Worked for a long time. Now happily retired. N...</td>\n",
              "      <td>None</td>\n",
              "      <td>False</td>\n",
              "      <td>2018-03-25 02:03:43+00:00</td>\n",
              "    </tr>\n",
              "    <tr>\n",
              "      <th>7</th>\n",
              "      <td>1354558578963738626</td>\n",
              "      <td>RT @OliviaTroye: Glad @DHSgov is finally allow...</td>\n",
              "      <td>False</td>\n",
              "      <td>1354556505127866370</td>\n",
              "      <td>2329492448</td>\n",
              "      <td>OliviaTroye</td>\n",
              "      <td>None</td>\n",
              "      <td>None</td>\n",
              "      <td>False</td>\n",
              "      <td>None</td>\n",
              "      <td>2021-01-27 22:35:06+00:00</td>\n",
              "      <td>820255908617920512</td>\n",
              "      <td>Dan Davis</td>\n",
              "      <td>Bindlestaff</td>\n",
              "      <td>Character is like a tree and reputation like a...</td>\n",
              "      <td>Georgia, USA</td>\n",
              "      <td>False</td>\n",
              "      <td>2017-01-14 13:07:03+00:00</td>\n",
              "    </tr>\n",
              "    <tr>\n",
              "      <th>8</th>\n",
              "      <td>1354536363673194498</td>\n",
              "      <td>RT @gmanhum: @starkrob21 @realMikeLindell Stor...</td>\n",
              "      <td>False</td>\n",
              "      <td>1354499452493561864</td>\n",
              "      <td>275838543</td>\n",
              "      <td>gmanhum</td>\n",
              "      <td>None</td>\n",
              "      <td>None</td>\n",
              "      <td>False</td>\n",
              "      <td>None</td>\n",
              "      <td>2021-01-27 21:06:49+00:00</td>\n",
              "      <td>890727359011225600</td>\n",
              "      <td>Pres. Elect_Doctor BOB</td>\n",
              "      <td>MysterBobC</td>\n",
              "      <td>USMC Veteran, Marine Air Surveillance/Air Defe...</td>\n",
              "      <td>Ohio, USA</td>\n",
              "      <td>False</td>\n",
              "      <td>2017-07-28 00:15:26+00:00</td>\n",
              "    </tr>\n",
              "    <tr>\n",
              "      <th>9</th>\n",
              "      <td>1354557626873311233</td>\n",
              "      <td>RT @OliviaTroye: Glad @DHSgov is finally allow...</td>\n",
              "      <td>False</td>\n",
              "      <td>1354556505127866370</td>\n",
              "      <td>2329492448</td>\n",
              "      <td>OliviaTroye</td>\n",
              "      <td>None</td>\n",
              "      <td>None</td>\n",
              "      <td>False</td>\n",
              "      <td>None</td>\n",
              "      <td>2021-01-27 22:31:19+00:00</td>\n",
              "      <td>16367618</td>\n",
              "      <td>Smookbert</td>\n",
              "      <td>Smookbert</td>\n",
              "      <td>None</td>\n",
              "      <td>None</td>\n",
              "      <td>False</td>\n",
              "      <td>2008-09-19 18:53:15+00:00</td>\n",
              "    </tr>\n",
              "  </tbody>\n",
              "</table>\n",
              "</div>"
            ],
            "text/plain": [
              "             status_id  ...           user_created_at\n",
              "0  1354593218223104003  ... 2016-05-03 23:16:27+00:00\n",
              "1  1354552038873575426  ... 2016-02-10 15:29:46+00:00\n",
              "2  1354516279483371522  ... 2014-10-27 11:22:39+00:00\n",
              "3  1354519570334117888  ... 2009-11-14 17:55:52+00:00\n",
              "4  1354577795175903236  ... 2021-01-12 03:47:01+00:00\n",
              "5  1354556968514404352  ... 2014-06-17 19:52:59+00:00\n",
              "6  1354556633708302341  ... 2018-03-25 02:03:43+00:00\n",
              "7  1354558578963738626  ... 2017-01-14 13:07:03+00:00\n",
              "8  1354536363673194498  ... 2017-07-28 00:15:26+00:00\n",
              "9  1354557626873311233  ... 2008-09-19 18:53:15+00:00\n",
              "\n",
              "[10 rows x 18 columns]"
            ]
          },
          "metadata": {
            "tags": []
          },
          "execution_count": 82
        }
      ]
    },
    {
      "cell_type": "code",
      "metadata": {
        "colab": {
          "base_uri": "https://localhost:8080/"
        },
        "id": "Cxf2wpC-q1RN",
        "outputId": "75d4f75a-e868-4187-c03b-4184f2127cd9"
      },
      "source": [
        "df.columns.tolist()"
      ],
      "execution_count": 83,
      "outputs": [
        {
          "output_type": "execute_result",
          "data": {
            "text/plain": [
              "['status_id',\n",
              " 'status_text',\n",
              " 'truncated',\n",
              " 'retweeted_status_id',\n",
              " 'retweeted_user_id',\n",
              " 'retweeted_user_screen_name',\n",
              " 'reply_status_id',\n",
              " 'reply_user_id',\n",
              " 'is_quote',\n",
              " 'geo',\n",
              " 'created_at',\n",
              " 'user_id',\n",
              " 'user_name',\n",
              " 'user_screen_name',\n",
              " 'user_description',\n",
              " 'user_location',\n",
              " 'user_verified',\n",
              " 'user_created_at']"
            ]
          },
          "metadata": {
            "tags": []
          },
          "execution_count": 83
        }
      ]
    },
    {
      "cell_type": "code",
      "metadata": {
        "colab": {
          "base_uri": "https://localhost:8080/"
        },
        "id": "YZHAJFU9q4Qr",
        "outputId": "79216fc2-1435-470b-8195-c2aac71f3fe2"
      },
      "source": [
        "df.dtypes"
      ],
      "execution_count": 84,
      "outputs": [
        {
          "output_type": "execute_result",
          "data": {
            "text/plain": [
              "status_id                                  object\n",
              "status_text                                object\n",
              "truncated                                    bool\n",
              "retweeted_status_id                        object\n",
              "retweeted_user_id                          object\n",
              "retweeted_user_screen_name                 object\n",
              "reply_status_id                            object\n",
              "reply_user_id                              object\n",
              "is_quote                                     bool\n",
              "geo                                        object\n",
              "created_at                    datetime64[ns, UTC]\n",
              "user_id                                    object\n",
              "user_name                                  object\n",
              "user_screen_name                           object\n",
              "user_description                           object\n",
              "user_location                              object\n",
              "user_verified                                bool\n",
              "user_created_at               datetime64[ns, UTC]\n",
              "dtype: object"
            ]
          },
          "metadata": {
            "tags": []
          },
          "execution_count": 84
        }
      ]
    },
    {
      "cell_type": "code",
      "metadata": {
        "colab": {
          "base_uri": "https://localhost:8080/"
        },
        "id": "mZ24-gnMq9xA",
        "outputId": "e216b15e-d872-4f20-869a-5f95e480bfea"
      },
      "source": [
        "df.iloc[0]"
      ],
      "execution_count": 85,
      "outputs": [
        {
          "output_type": "execute_result",
          "data": {
            "text/plain": [
              "status_id                                                   1354593218223104003\n",
              "status_text                   RT @BigBlueWaveUSA: #MarjorieTaylorGreene is e...\n",
              "truncated                                                                 False\n",
              "retweeted_status_id                                         1354592005645451266\n",
              "retweeted_user_id                                            979212105533440000\n",
              "retweeted_user_screen_name                                       BigBlueWaveUSA\n",
              "reply_status_id                                                            None\n",
              "reply_user_id                                                              None\n",
              "is_quote                                                                  False\n",
              "geo                                                                        None\n",
              "created_at                                            2021-01-28 00:52:45+00:00\n",
              "user_id                                                      727637976377864192\n",
              "user_name                                                                  DREW\n",
              "user_screen_name                                                    drew4711700\n",
              "user_description                  ABOLITIONIST $DREW1700  Iraq War VET/WARHORSE\n",
              "user_location                                                      IN THE WORLD\n",
              "user_verified                                                             False\n",
              "user_created_at                                       2016-05-03 23:16:27+00:00\n",
              "Name: 0, dtype: object"
            ]
          },
          "metadata": {
            "tags": []
          },
          "execution_count": 85
        }
      ]
    }
  ]
}