{
  "nbformat": 4,
  "nbformat_minor": 0,
  "metadata": {
    "colab": {
      "provenance": [],
      "collapsed_sections": [
        "Ymoi-E5OjZD5"
      ]
    },
    "kernelspec": {
      "name": "python3",
      "display_name": "Python 3"
    },
    "widgets": {
      "application/vnd.jupyter.widget-state+json": {
        "0a46a973c9b747dda6319edefb1b7ded": {
          "model_module": "@jupyter-widgets/controls",
          "model_name": "HBoxModel",
          "model_module_version": "1.5.0",
          "state": {
            "_dom_classes": [],
            "_model_module": "@jupyter-widgets/controls",
            "_model_module_version": "1.5.0",
            "_model_name": "HBoxModel",
            "_view_count": null,
            "_view_module": "@jupyter-widgets/controls",
            "_view_module_version": "1.5.0",
            "_view_name": "HBoxView",
            "box_style": "",
            "children": [
              "IPY_MODEL_4da3c216e9274b5ab652a9eab2fee228",
              "IPY_MODEL_6d49d417990d4ca096bc737e33bd6eb9",
              "IPY_MODEL_4e5d8e7f91364e5d9856f5714749c557"
            ],
            "layout": "IPY_MODEL_991c4ccee9994a84a50952d6836e985c"
          }
        },
        "4da3c216e9274b5ab652a9eab2fee228": {
          "model_module": "@jupyter-widgets/controls",
          "model_name": "HTMLModel",
          "model_module_version": "1.5.0",
          "state": {
            "_dom_classes": [],
            "_model_module": "@jupyter-widgets/controls",
            "_model_module_version": "1.5.0",
            "_model_name": "HTMLModel",
            "_view_count": null,
            "_view_module": "@jupyter-widgets/controls",
            "_view_module_version": "1.5.0",
            "_view_name": "HTMLView",
            "description": "",
            "description_tooltip": null,
            "layout": "IPY_MODEL_69d22886e1da42c884cfbb7d4d3f964c",
            "placeholder": "​",
            "style": "IPY_MODEL_65d0aa03a42944d2ad8ccd885a6c7e34",
            "value": "Downloading: 100%"
          }
        },
        "6d49d417990d4ca096bc737e33bd6eb9": {
          "model_module": "@jupyter-widgets/controls",
          "model_name": "FloatProgressModel",
          "model_module_version": "1.5.0",
          "state": {
            "_dom_classes": [],
            "_model_module": "@jupyter-widgets/controls",
            "_model_module_version": "1.5.0",
            "_model_name": "FloatProgressModel",
            "_view_count": null,
            "_view_module": "@jupyter-widgets/controls",
            "_view_module_version": "1.5.0",
            "_view_name": "ProgressView",
            "bar_style": "success",
            "description": "",
            "description_tooltip": null,
            "layout": "IPY_MODEL_33809c4578964d2197a04d51e8d5f18c",
            "max": 858450,
            "min": 0,
            "orientation": "horizontal",
            "style": "IPY_MODEL_4fa2f3a254bc4185ab01a0045dbc7609",
            "value": 858450
          }
        },
        "4e5d8e7f91364e5d9856f5714749c557": {
          "model_module": "@jupyter-widgets/controls",
          "model_name": "HTMLModel",
          "model_module_version": "1.5.0",
          "state": {
            "_dom_classes": [],
            "_model_module": "@jupyter-widgets/controls",
            "_model_module_version": "1.5.0",
            "_model_name": "HTMLModel",
            "_view_count": null,
            "_view_module": "@jupyter-widgets/controls",
            "_view_module_version": "1.5.0",
            "_view_name": "HTMLView",
            "description": "",
            "description_tooltip": null,
            "layout": "IPY_MODEL_95ee100a8d834afc8172549780b70400",
            "placeholder": "​",
            "style": "IPY_MODEL_13541de6f9294bf291c9084586fb0844",
            "value": ""
          }
        },
        "991c4ccee9994a84a50952d6836e985c": {
          "model_module": "@jupyter-widgets/base",
          "model_name": "LayoutModel",
          "model_module_version": "1.2.0",
          "state": {
            "_model_module": "@jupyter-widgets/base",
            "_model_module_version": "1.2.0",
            "_model_name": "LayoutModel",
            "_view_count": null,
            "_view_module": "@jupyter-widgets/base",
            "_view_module_version": "1.2.0",
            "_view_name": "LayoutView",
            "align_content": null,
            "align_items": null,
            "align_self": null,
            "border": null,
            "bottom": null,
            "display": null,
            "flex": null,
            "flex_flow": null,
            "grid_area": null,
            "grid_auto_columns": null,
            "grid_auto_flow": null,
            "grid_auto_rows": null,
            "grid_column": null,
            "grid_gap": null,
            "grid_row": null,
            "grid_template_areas": null,
            "grid_template_columns": null,
            "grid_template_rows": null,
            "height": null,
            "justify_content": null,
            "justify_items": null,
            "left": null,
            "margin": null,
            "max_height": null,
            "max_width": null,
            "min_height": null,
            "min_width": null,
            "object_fit": null,
            "object_position": null,
            "order": null,
            "overflow": null,
            "overflow_x": null,
            "overflow_y": null,
            "padding": null,
            "right": null,
            "top": null,
            "visibility": null,
            "width": null
          }
        },
        "69d22886e1da42c884cfbb7d4d3f964c": {
          "model_module": "@jupyter-widgets/base",
          "model_name": "LayoutModel",
          "model_module_version": "1.2.0",
          "state": {
            "_model_module": "@jupyter-widgets/base",
            "_model_module_version": "1.2.0",
            "_model_name": "LayoutModel",
            "_view_count": null,
            "_view_module": "@jupyter-widgets/base",
            "_view_module_version": "1.2.0",
            "_view_name": "LayoutView",
            "align_content": null,
            "align_items": null,
            "align_self": null,
            "border": null,
            "bottom": null,
            "display": null,
            "flex": null,
            "flex_flow": null,
            "grid_area": null,
            "grid_auto_columns": null,
            "grid_auto_flow": null,
            "grid_auto_rows": null,
            "grid_column": null,
            "grid_gap": null,
            "grid_row": null,
            "grid_template_areas": null,
            "grid_template_columns": null,
            "grid_template_rows": null,
            "height": null,
            "justify_content": null,
            "justify_items": null,
            "left": null,
            "margin": null,
            "max_height": null,
            "max_width": null,
            "min_height": null,
            "min_width": null,
            "object_fit": null,
            "object_position": null,
            "order": null,
            "overflow": null,
            "overflow_x": null,
            "overflow_y": null,
            "padding": null,
            "right": null,
            "top": null,
            "visibility": null,
            "width": null
          }
        },
        "65d0aa03a42944d2ad8ccd885a6c7e34": {
          "model_module": "@jupyter-widgets/controls",
          "model_name": "DescriptionStyleModel",
          "model_module_version": "1.5.0",
          "state": {
            "_model_module": "@jupyter-widgets/controls",
            "_model_module_version": "1.5.0",
            "_model_name": "DescriptionStyleModel",
            "_view_count": null,
            "_view_module": "@jupyter-widgets/base",
            "_view_module_version": "1.2.0",
            "_view_name": "StyleView",
            "description_width": ""
          }
        },
        "33809c4578964d2197a04d51e8d5f18c": {
          "model_module": "@jupyter-widgets/base",
          "model_name": "LayoutModel",
          "model_module_version": "1.2.0",
          "state": {
            "_model_module": "@jupyter-widgets/base",
            "_model_module_version": "1.2.0",
            "_model_name": "LayoutModel",
            "_view_count": null,
            "_view_module": "@jupyter-widgets/base",
            "_view_module_version": "1.2.0",
            "_view_name": "LayoutView",
            "align_content": null,
            "align_items": null,
            "align_self": null,
            "border": null,
            "bottom": null,
            "display": null,
            "flex": null,
            "flex_flow": null,
            "grid_area": null,
            "grid_auto_columns": null,
            "grid_auto_flow": null,
            "grid_auto_rows": null,
            "grid_column": null,
            "grid_gap": null,
            "grid_row": null,
            "grid_template_areas": null,
            "grid_template_columns": null,
            "grid_template_rows": null,
            "height": null,
            "justify_content": null,
            "justify_items": null,
            "left": null,
            "margin": null,
            "max_height": null,
            "max_width": null,
            "min_height": null,
            "min_width": null,
            "object_fit": null,
            "object_position": null,
            "order": null,
            "overflow": null,
            "overflow_x": null,
            "overflow_y": null,
            "padding": null,
            "right": null,
            "top": null,
            "visibility": null,
            "width": null
          }
        },
        "4fa2f3a254bc4185ab01a0045dbc7609": {
          "model_module": "@jupyter-widgets/controls",
          "model_name": "ProgressStyleModel",
          "model_module_version": "1.5.0",
          "state": {
            "_model_module": "@jupyter-widgets/controls",
            "_model_module_version": "1.5.0",
            "_model_name": "ProgressStyleModel",
            "_view_count": null,
            "_view_module": "@jupyter-widgets/base",
            "_view_module_version": "1.2.0",
            "_view_name": "StyleView",
            "bar_color": null,
            "description_width": ""
          }
        },
        "95ee100a8d834afc8172549780b70400": {
          "model_module": "@jupyter-widgets/base",
          "model_name": "LayoutModel",
          "model_module_version": "1.2.0",
          "state": {
            "_model_module": "@jupyter-widgets/base",
            "_model_module_version": "1.2.0",
            "_model_name": "LayoutModel",
            "_view_count": null,
            "_view_module": "@jupyter-widgets/base",
            "_view_module_version": "1.2.0",
            "_view_name": "LayoutView",
            "align_content": null,
            "align_items": null,
            "align_self": null,
            "border": null,
            "bottom": null,
            "display": null,
            "flex": null,
            "flex_flow": null,
            "grid_area": null,
            "grid_auto_columns": null,
            "grid_auto_flow": null,
            "grid_auto_rows": null,
            "grid_column": null,
            "grid_gap": null,
            "grid_row": null,
            "grid_template_areas": null,
            "grid_template_columns": null,
            "grid_template_rows": null,
            "height": null,
            "justify_content": null,
            "justify_items": null,
            "left": null,
            "margin": null,
            "max_height": null,
            "max_width": null,
            "min_height": null,
            "min_width": null,
            "object_fit": null,
            "object_position": null,
            "order": null,
            "overflow": null,
            "overflow_x": null,
            "overflow_y": null,
            "padding": null,
            "right": null,
            "top": null,
            "visibility": null,
            "width": null
          }
        },
        "13541de6f9294bf291c9084586fb0844": {
          "model_module": "@jupyter-widgets/controls",
          "model_name": "DescriptionStyleModel",
          "model_module_version": "1.5.0",
          "state": {
            "_model_module": "@jupyter-widgets/controls",
            "_model_module_version": "1.5.0",
            "_model_name": "DescriptionStyleModel",
            "_view_count": null,
            "_view_module": "@jupyter-widgets/base",
            "_view_module_version": "1.2.0",
            "_view_name": "StyleView",
            "description_width": ""
          }
        }
      }
    }
  },
  "cells": [
    {
      "cell_type": "markdown",
      "metadata": {
        "id": "_-39w0IS18f-"
      },
      "source": [
        "Exporting data to drive..."
      ]
    },
    {
      "cell_type": "markdown",
      "metadata": {
        "id": "D7AHRh645FX3"
      },
      "source": [
        "### BigQuery Service"
      ]
    },
    {
      "cell_type": "code",
      "source": [
        "from google.colab import auth\n",
        "\n",
        "auth.authenticate_user()"
      ],
      "metadata": {
        "id": "rfJKRImngZAw"
      },
      "execution_count": 1,
      "outputs": []
    },
    {
      "cell_type": "code",
      "source": [
        "#from google.auth import default\n",
        "#creds, _ = default()\n",
        "#print(creds)"
      ],
      "metadata": {
        "id": "w5cAeKKYgY31"
      },
      "execution_count": 2,
      "outputs": []
    },
    {
      "cell_type": "code",
      "source": [
        "from google.cloud import bigquery\n",
        "from pandas import DataFrame, read_gbq\n",
        "\n",
        "#PROJECT_ID = \"tweet-collector-py\"\n",
        "PROJECT_ID = \"tweet-research-shared\"\n",
        "\n",
        "class BigQueryService():\n",
        "    def __init__(self, project_id=PROJECT_ID):\n",
        "        self.project_id = project_id\n",
        "        self.client = bigquery.Client(project=self.project_id)\n",
        "\n",
        "    def execute_query(self, sql, verbose=True):\n",
        "        if verbose == True:\n",
        "            print(sql)\n",
        "        job = self.client.query(sql)\n",
        "        return job.result()\n",
        "\n",
        "    #def query_to_df(self, sql, verbose=True):\n",
        "    #    \"\"\"high-level wrapper to return a DataFrame\"\"\"\n",
        "    #    results = self.execute_query(sql, verbose=verbose)\n",
        "    #    return DataFrame([dict(row) for row in results])\n",
        "\n",
        "    def query_to_df(self, sql, verbose=True):\n",
        "        \"\"\"high-level wrapper to return a DataFrame\"\"\"\n",
        "        if verbose == True:\n",
        "            print(sql)\n",
        "        # https://pandas.pydata.org/docs/reference/api/pandas.read_gbq.html#pandas-read-gbq\n",
        "        return read_gbq(sql, project_id=self.project_id, progress_bar_type=\"tqdm_notebook\")\n"
      ],
      "metadata": {
        "id": "RmRzz0xxf_7U"
      },
      "execution_count": 3,
      "outputs": []
    },
    {
      "cell_type": "code",
      "metadata": {
        "id": "-qBZo9ezksZz",
        "colab": {
          "base_uri": "https://localhost:8080/"
        },
        "outputId": "904718f5-e3e8-421e-a78c-237cd3426eee"
      },
      "source": [
        "bq = BigQueryService()\n",
        "print(bq)"
      ],
      "execution_count": 4,
      "outputs": [
        {
          "output_type": "stream",
          "name": "stdout",
          "text": [
            "<__main__.BigQueryService object at 0x7c481e331ea0>\n"
          ]
        }
      ]
    },
    {
      "cell_type": "code",
      "source": [
        "print(\"DATASETS:\")\n",
        "datasets = list(bq.client.list_datasets())\n",
        "for ds in datasets:\n",
        "    #print(\"...\", ds.project, ds.dataset_id)\n",
        "    print(\"...\", ds.reference)"
      ],
      "metadata": {
        "colab": {
          "base_uri": "https://localhost:8080/"
        },
        "id": "aYbFLi93gBgi",
        "outputId": "9d179d32-1832-4085-f4c6-3fb83aace1c8"
      },
      "execution_count": 5,
      "outputs": [
        {
          "output_type": "stream",
          "name": "stdout",
          "text": [
            "DATASETS:\n",
            "... tweet-research-shared.analysis_2021\n",
            "... tweet-research-shared.disinfo_2021\n",
            "... tweet-research-shared.election_2020\n",
            "... tweet-research-shared.election_2020_transition_2021_combined\n",
            "... tweet-research-shared.f1_racing_2023\n",
            "... tweet-research-shared.impeachment_2020\n",
            "... tweet-research-shared.impeachment_2021\n",
            "... tweet-research-shared.transition_2021\n",
            "... tweet-research-shared.truth_2023\n",
            "... tweet-research-shared.user_aak154\n",
            "... tweet-research-shared.user_ejc128\n",
            "... tweet-research-shared.user_jrd154\n",
            "... tweet-research-shared.user_llj40\n",
            "... tweet-research-shared.user_mjr300\n",
            "... tweet-research-shared.user_yc986\n"
          ]
        }
      ]
    },
    {
      "cell_type": "markdown",
      "metadata": {
        "id": "4t48ewACjXQy"
      },
      "source": [
        "# Usage"
      ]
    },
    {
      "cell_type": "markdown",
      "source": [
        "Fetch table of \"original\" timeline tweets (excludes rt, reply, quotes):"
      ],
      "metadata": {
        "id": "tsjt8UD-c2Wh"
      }
    },
    {
      "cell_type": "code",
      "source": [
        "print(\"------------\")\n",
        "print(\"QUERY:\")\n",
        "sql = \"\"\"\n",
        "    SELECT user_id, status_id, status_text, geo, created_at, lookup_at\n",
        "    FROM `tweet-research-shared.disinfo_2021.q_user_timeline_tweets_original`\n",
        "\"\"\"\n",
        "\n",
        "df = bq.query_to_df(sql, verbose=True)\n",
        "df"
      ],
      "metadata": {
        "colab": {
          "base_uri": "https://localhost:8080/",
          "height": 733,
          "referenced_widgets": [
            "0a46a973c9b747dda6319edefb1b7ded",
            "4da3c216e9274b5ab652a9eab2fee228",
            "6d49d417990d4ca096bc737e33bd6eb9",
            "4e5d8e7f91364e5d9856f5714749c557",
            "991c4ccee9994a84a50952d6836e985c",
            "69d22886e1da42c884cfbb7d4d3f964c",
            "65d0aa03a42944d2ad8ccd885a6c7e34",
            "33809c4578964d2197a04d51e8d5f18c",
            "4fa2f3a254bc4185ab01a0045dbc7609",
            "95ee100a8d834afc8172549780b70400",
            "13541de6f9294bf291c9084586fb0844"
          ]
        },
        "id": "-yk6fKbac4Bq",
        "outputId": "fa0c224e-36f1-4f75-895d-fd74ff5545f4"
      },
      "execution_count": 6,
      "outputs": [
        {
          "output_type": "stream",
          "name": "stdout",
          "text": [
            "------------\n",
            "QUERY:\n",
            "\n",
            "    SELECT user_id, status_id, status_text, geo, created_at, lookup_at\n",
            "    FROM `tweet-research-shared.disinfo_2021.q_user_timeline_tweets_original`\n",
            "\n"
          ]
        },
        {
          "output_type": "display_data",
          "data": {
            "text/plain": [
              "Downloading:   0%|          |"
            ],
            "application/vnd.jupyter.widget-view+json": {
              "version_major": 2,
              "version_minor": 0,
              "model_id": "0a46a973c9b747dda6319edefb1b7ded"
            }
          },
          "metadata": {}
        },
        {
          "output_type": "execute_result",
          "data": {
            "text/plain": [
              "                    user_id            status_id  \\\n",
              "0                   5878912  1290760850760818691   \n",
              "1                   5878912  1290995554739134466   \n",
              "2                   5878912  1291003614400413696   \n",
              "3                   5878912  1291071358638514176   \n",
              "4                   5878912  1291145303031087105   \n",
              "...                     ...                  ...   \n",
              "858445  1240979986716164096  1350907926135906312   \n",
              "858446  1240979986716164096  1350986931866398726   \n",
              "858447  1240979986716164096  1351605098972131328   \n",
              "858448  1240979986716164096  1353034424099733506   \n",
              "858449  1240979986716164096  1353034483302338560   \n",
              "\n",
              "                                              status_text   geo  \\\n",
              "0       Radioactive Great white sharks swim among us a...  None   \n",
              "1       #SaintedAnon on the #BeirutExplosion   https:/...  None   \n",
              "2       Is the #MandelaEffect proof we are now living ...  None   \n",
              "3       To mark the Hiroshima-Nagasaki 75th anniversar...  None   \n",
              "4                     @VecchioCal https://t.co/3SupdrXEp0  None   \n",
              "...                                                   ...   ...   \n",
              "858445         Future proves past https://t.co/YDfbTrb0eE  None   \n",
              "858446  From last year spring 2020.  https://t.co/ODNj...  None   \n",
              "858447  No more cultural appropriations people .  Cmon...  None   \n",
              "858448  It’s up to the parents to raise em right now. ...  None   \n",
              "858449                            https://t.co/TPesicavfv  None   \n",
              "\n",
              "                      created_at                 lookup_at  \n",
              "0      2020-08-04 21:25:42+00:00 2021-03-25 04:52:55+00:00  \n",
              "1      2020-08-05 12:58:20+00:00 2021-03-25 04:52:55+00:00  \n",
              "2      2020-08-05 13:30:22+00:00 2021-03-25 04:52:55+00:00  \n",
              "3      2020-08-05 17:59:33+00:00 2021-03-25 04:52:55+00:00  \n",
              "4      2020-08-05 22:53:23+00:00 2021-03-25 04:52:55+00:00  \n",
              "...                          ...                       ...  \n",
              "858445 2021-01-17 20:48:42+00:00 2021-03-25 09:01:03+00:00  \n",
              "858446 2021-01-18 02:02:39+00:00 2021-03-25 09:01:03+00:00  \n",
              "858447 2021-01-19 18:59:01+00:00 2021-03-25 09:01:03+00:00  \n",
              "858448 2021-01-23 17:38:39+00:00 2021-03-25 09:01:03+00:00  \n",
              "858449 2021-01-23 17:38:53+00:00 2021-03-25 09:01:03+00:00  \n",
              "\n",
              "[858450 rows x 6 columns]"
            ],
            "text/html": [
              "\n",
              "  <div id=\"df-646839b0-70d3-4455-b590-4a74b5625a24\" class=\"colab-df-container\">\n",
              "    <div>\n",
              "<style scoped>\n",
              "    .dataframe tbody tr th:only-of-type {\n",
              "        vertical-align: middle;\n",
              "    }\n",
              "\n",
              "    .dataframe tbody tr th {\n",
              "        vertical-align: top;\n",
              "    }\n",
              "\n",
              "    .dataframe thead th {\n",
              "        text-align: right;\n",
              "    }\n",
              "</style>\n",
              "<table border=\"1\" class=\"dataframe\">\n",
              "  <thead>\n",
              "    <tr style=\"text-align: right;\">\n",
              "      <th></th>\n",
              "      <th>user_id</th>\n",
              "      <th>status_id</th>\n",
              "      <th>status_text</th>\n",
              "      <th>geo</th>\n",
              "      <th>created_at</th>\n",
              "      <th>lookup_at</th>\n",
              "    </tr>\n",
              "  </thead>\n",
              "  <tbody>\n",
              "    <tr>\n",
              "      <th>0</th>\n",
              "      <td>5878912</td>\n",
              "      <td>1290760850760818691</td>\n",
              "      <td>Radioactive Great white sharks swim among us a...</td>\n",
              "      <td>None</td>\n",
              "      <td>2020-08-04 21:25:42+00:00</td>\n",
              "      <td>2021-03-25 04:52:55+00:00</td>\n",
              "    </tr>\n",
              "    <tr>\n",
              "      <th>1</th>\n",
              "      <td>5878912</td>\n",
              "      <td>1290995554739134466</td>\n",
              "      <td>#SaintedAnon on the #BeirutExplosion   https:/...</td>\n",
              "      <td>None</td>\n",
              "      <td>2020-08-05 12:58:20+00:00</td>\n",
              "      <td>2021-03-25 04:52:55+00:00</td>\n",
              "    </tr>\n",
              "    <tr>\n",
              "      <th>2</th>\n",
              "      <td>5878912</td>\n",
              "      <td>1291003614400413696</td>\n",
              "      <td>Is the #MandelaEffect proof we are now living ...</td>\n",
              "      <td>None</td>\n",
              "      <td>2020-08-05 13:30:22+00:00</td>\n",
              "      <td>2021-03-25 04:52:55+00:00</td>\n",
              "    </tr>\n",
              "    <tr>\n",
              "      <th>3</th>\n",
              "      <td>5878912</td>\n",
              "      <td>1291071358638514176</td>\n",
              "      <td>To mark the Hiroshima-Nagasaki 75th anniversar...</td>\n",
              "      <td>None</td>\n",
              "      <td>2020-08-05 17:59:33+00:00</td>\n",
              "      <td>2021-03-25 04:52:55+00:00</td>\n",
              "    </tr>\n",
              "    <tr>\n",
              "      <th>4</th>\n",
              "      <td>5878912</td>\n",
              "      <td>1291145303031087105</td>\n",
              "      <td>@VecchioCal https://t.co/3SupdrXEp0</td>\n",
              "      <td>None</td>\n",
              "      <td>2020-08-05 22:53:23+00:00</td>\n",
              "      <td>2021-03-25 04:52:55+00:00</td>\n",
              "    </tr>\n",
              "    <tr>\n",
              "      <th>...</th>\n",
              "      <td>...</td>\n",
              "      <td>...</td>\n",
              "      <td>...</td>\n",
              "      <td>...</td>\n",
              "      <td>...</td>\n",
              "      <td>...</td>\n",
              "    </tr>\n",
              "    <tr>\n",
              "      <th>858445</th>\n",
              "      <td>1240979986716164096</td>\n",
              "      <td>1350907926135906312</td>\n",
              "      <td>Future proves past https://t.co/YDfbTrb0eE</td>\n",
              "      <td>None</td>\n",
              "      <td>2021-01-17 20:48:42+00:00</td>\n",
              "      <td>2021-03-25 09:01:03+00:00</td>\n",
              "    </tr>\n",
              "    <tr>\n",
              "      <th>858446</th>\n",
              "      <td>1240979986716164096</td>\n",
              "      <td>1350986931866398726</td>\n",
              "      <td>From last year spring 2020.  https://t.co/ODNj...</td>\n",
              "      <td>None</td>\n",
              "      <td>2021-01-18 02:02:39+00:00</td>\n",
              "      <td>2021-03-25 09:01:03+00:00</td>\n",
              "    </tr>\n",
              "    <tr>\n",
              "      <th>858447</th>\n",
              "      <td>1240979986716164096</td>\n",
              "      <td>1351605098972131328</td>\n",
              "      <td>No more cultural appropriations people .  Cmon...</td>\n",
              "      <td>None</td>\n",
              "      <td>2021-01-19 18:59:01+00:00</td>\n",
              "      <td>2021-03-25 09:01:03+00:00</td>\n",
              "    </tr>\n",
              "    <tr>\n",
              "      <th>858448</th>\n",
              "      <td>1240979986716164096</td>\n",
              "      <td>1353034424099733506</td>\n",
              "      <td>It’s up to the parents to raise em right now. ...</td>\n",
              "      <td>None</td>\n",
              "      <td>2021-01-23 17:38:39+00:00</td>\n",
              "      <td>2021-03-25 09:01:03+00:00</td>\n",
              "    </tr>\n",
              "    <tr>\n",
              "      <th>858449</th>\n",
              "      <td>1240979986716164096</td>\n",
              "      <td>1353034483302338560</td>\n",
              "      <td>https://t.co/TPesicavfv</td>\n",
              "      <td>None</td>\n",
              "      <td>2021-01-23 17:38:53+00:00</td>\n",
              "      <td>2021-03-25 09:01:03+00:00</td>\n",
              "    </tr>\n",
              "  </tbody>\n",
              "</table>\n",
              "<p>858450 rows × 6 columns</p>\n",
              "</div>\n",
              "    <div class=\"colab-df-buttons\">\n",
              "\n",
              "  <div class=\"colab-df-container\">\n",
              "    <button class=\"colab-df-convert\" onclick=\"convertToInteractive('df-646839b0-70d3-4455-b590-4a74b5625a24')\"\n",
              "            title=\"Convert this dataframe to an interactive table.\"\n",
              "            style=\"display:none;\">\n",
              "\n",
              "  <svg xmlns=\"http://www.w3.org/2000/svg\" height=\"24px\" viewBox=\"0 -960 960 960\">\n",
              "    <path d=\"M120-120v-720h720v720H120Zm60-500h600v-160H180v160Zm220 220h160v-160H400v160Zm0 220h160v-160H400v160ZM180-400h160v-160H180v160Zm440 0h160v-160H620v160ZM180-180h160v-160H180v160Zm440 0h160v-160H620v160Z\"/>\n",
              "  </svg>\n",
              "    </button>\n",
              "\n",
              "  <style>\n",
              "    .colab-df-container {\n",
              "      display:flex;\n",
              "      gap: 12px;\n",
              "    }\n",
              "\n",
              "    .colab-df-convert {\n",
              "      background-color: #E8F0FE;\n",
              "      border: none;\n",
              "      border-radius: 50%;\n",
              "      cursor: pointer;\n",
              "      display: none;\n",
              "      fill: #1967D2;\n",
              "      height: 32px;\n",
              "      padding: 0 0 0 0;\n",
              "      width: 32px;\n",
              "    }\n",
              "\n",
              "    .colab-df-convert:hover {\n",
              "      background-color: #E2EBFA;\n",
              "      box-shadow: 0px 1px 2px rgba(60, 64, 67, 0.3), 0px 1px 3px 1px rgba(60, 64, 67, 0.15);\n",
              "      fill: #174EA6;\n",
              "    }\n",
              "\n",
              "    .colab-df-buttons div {\n",
              "      margin-bottom: 4px;\n",
              "    }\n",
              "\n",
              "    [theme=dark] .colab-df-convert {\n",
              "      background-color: #3B4455;\n",
              "      fill: #D2E3FC;\n",
              "    }\n",
              "\n",
              "    [theme=dark] .colab-df-convert:hover {\n",
              "      background-color: #434B5C;\n",
              "      box-shadow: 0px 1px 3px 1px rgba(0, 0, 0, 0.15);\n",
              "      filter: drop-shadow(0px 1px 2px rgba(0, 0, 0, 0.3));\n",
              "      fill: #FFFFFF;\n",
              "    }\n",
              "  </style>\n",
              "\n",
              "    <script>\n",
              "      const buttonEl =\n",
              "        document.querySelector('#df-646839b0-70d3-4455-b590-4a74b5625a24 button.colab-df-convert');\n",
              "      buttonEl.style.display =\n",
              "        google.colab.kernel.accessAllowed ? 'block' : 'none';\n",
              "\n",
              "      async function convertToInteractive(key) {\n",
              "        const element = document.querySelector('#df-646839b0-70d3-4455-b590-4a74b5625a24');\n",
              "        const dataTable =\n",
              "          await google.colab.kernel.invokeFunction('convertToInteractive',\n",
              "                                                    [key], {});\n",
              "        if (!dataTable) return;\n",
              "\n",
              "        const docLinkHtml = 'Like what you see? Visit the ' +\n",
              "          '<a target=\"_blank\" href=https://colab.research.google.com/notebooks/data_table.ipynb>data table notebook</a>'\n",
              "          + ' to learn more about interactive tables.';\n",
              "        element.innerHTML = '';\n",
              "        dataTable['output_type'] = 'display_data';\n",
              "        await google.colab.output.renderOutput(dataTable, element);\n",
              "        const docLink = document.createElement('div');\n",
              "        docLink.innerHTML = docLinkHtml;\n",
              "        element.appendChild(docLink);\n",
              "      }\n",
              "    </script>\n",
              "  </div>\n",
              "\n",
              "\n",
              "<div id=\"df-36f2190a-f454-4275-b9f1-6785e7024a6b\">\n",
              "  <button class=\"colab-df-quickchart\" onclick=\"quickchart('df-36f2190a-f454-4275-b9f1-6785e7024a6b')\"\n",
              "            title=\"Suggest charts\"\n",
              "            style=\"display:none;\">\n",
              "\n",
              "<svg xmlns=\"http://www.w3.org/2000/svg\" height=\"24px\"viewBox=\"0 0 24 24\"\n",
              "     width=\"24px\">\n",
              "    <g>\n",
              "        <path d=\"M19 3H5c-1.1 0-2 .9-2 2v14c0 1.1.9 2 2 2h14c1.1 0 2-.9 2-2V5c0-1.1-.9-2-2-2zM9 17H7v-7h2v7zm4 0h-2V7h2v10zm4 0h-2v-4h2v4z\"/>\n",
              "    </g>\n",
              "</svg>\n",
              "  </button>\n",
              "\n",
              "<style>\n",
              "  .colab-df-quickchart {\n",
              "      --bg-color: #E8F0FE;\n",
              "      --fill-color: #1967D2;\n",
              "      --hover-bg-color: #E2EBFA;\n",
              "      --hover-fill-color: #174EA6;\n",
              "      --disabled-fill-color: #AAA;\n",
              "      --disabled-bg-color: #DDD;\n",
              "  }\n",
              "\n",
              "  [theme=dark] .colab-df-quickchart {\n",
              "      --bg-color: #3B4455;\n",
              "      --fill-color: #D2E3FC;\n",
              "      --hover-bg-color: #434B5C;\n",
              "      --hover-fill-color: #FFFFFF;\n",
              "      --disabled-bg-color: #3B4455;\n",
              "      --disabled-fill-color: #666;\n",
              "  }\n",
              "\n",
              "  .colab-df-quickchart {\n",
              "    background-color: var(--bg-color);\n",
              "    border: none;\n",
              "    border-radius: 50%;\n",
              "    cursor: pointer;\n",
              "    display: none;\n",
              "    fill: var(--fill-color);\n",
              "    height: 32px;\n",
              "    padding: 0;\n",
              "    width: 32px;\n",
              "  }\n",
              "\n",
              "  .colab-df-quickchart:hover {\n",
              "    background-color: var(--hover-bg-color);\n",
              "    box-shadow: 0 1px 2px rgba(60, 64, 67, 0.3), 0 1px 3px 1px rgba(60, 64, 67, 0.15);\n",
              "    fill: var(--button-hover-fill-color);\n",
              "  }\n",
              "\n",
              "  .colab-df-quickchart-complete:disabled,\n",
              "  .colab-df-quickchart-complete:disabled:hover {\n",
              "    background-color: var(--disabled-bg-color);\n",
              "    fill: var(--disabled-fill-color);\n",
              "    box-shadow: none;\n",
              "  }\n",
              "\n",
              "  .colab-df-spinner {\n",
              "    border: 2px solid var(--fill-color);\n",
              "    border-color: transparent;\n",
              "    border-bottom-color: var(--fill-color);\n",
              "    animation:\n",
              "      spin 1s steps(1) infinite;\n",
              "  }\n",
              "\n",
              "  @keyframes spin {\n",
              "    0% {\n",
              "      border-color: transparent;\n",
              "      border-bottom-color: var(--fill-color);\n",
              "      border-left-color: var(--fill-color);\n",
              "    }\n",
              "    20% {\n",
              "      border-color: transparent;\n",
              "      border-left-color: var(--fill-color);\n",
              "      border-top-color: var(--fill-color);\n",
              "    }\n",
              "    30% {\n",
              "      border-color: transparent;\n",
              "      border-left-color: var(--fill-color);\n",
              "      border-top-color: var(--fill-color);\n",
              "      border-right-color: var(--fill-color);\n",
              "    }\n",
              "    40% {\n",
              "      border-color: transparent;\n",
              "      border-right-color: var(--fill-color);\n",
              "      border-top-color: var(--fill-color);\n",
              "    }\n",
              "    60% {\n",
              "      border-color: transparent;\n",
              "      border-right-color: var(--fill-color);\n",
              "    }\n",
              "    80% {\n",
              "      border-color: transparent;\n",
              "      border-right-color: var(--fill-color);\n",
              "      border-bottom-color: var(--fill-color);\n",
              "    }\n",
              "    90% {\n",
              "      border-color: transparent;\n",
              "      border-bottom-color: var(--fill-color);\n",
              "    }\n",
              "  }\n",
              "</style>\n",
              "\n",
              "  <script>\n",
              "    async function quickchart(key) {\n",
              "      const quickchartButtonEl =\n",
              "        document.querySelector('#' + key + ' button');\n",
              "      quickchartButtonEl.disabled = true;  // To prevent multiple clicks.\n",
              "      quickchartButtonEl.classList.add('colab-df-spinner');\n",
              "      try {\n",
              "        const charts = await google.colab.kernel.invokeFunction(\n",
              "            'suggestCharts', [key], {});\n",
              "      } catch (error) {\n",
              "        console.error('Error during call to suggestCharts:', error);\n",
              "      }\n",
              "      quickchartButtonEl.classList.remove('colab-df-spinner');\n",
              "      quickchartButtonEl.classList.add('colab-df-quickchart-complete');\n",
              "    }\n",
              "    (() => {\n",
              "      let quickchartButtonEl =\n",
              "        document.querySelector('#df-36f2190a-f454-4275-b9f1-6785e7024a6b button');\n",
              "      quickchartButtonEl.style.display =\n",
              "        google.colab.kernel.accessAllowed ? 'block' : 'none';\n",
              "    })();\n",
              "  </script>\n",
              "</div>\n",
              "\n",
              "  <div id=\"id_50beb90b-2b3b-4e6c-8a58-8283580aaadc\">\n",
              "    <style>\n",
              "      .colab-df-generate {\n",
              "        background-color: #E8F0FE;\n",
              "        border: none;\n",
              "        border-radius: 50%;\n",
              "        cursor: pointer;\n",
              "        display: none;\n",
              "        fill: #1967D2;\n",
              "        height: 32px;\n",
              "        padding: 0 0 0 0;\n",
              "        width: 32px;\n",
              "      }\n",
              "\n",
              "      .colab-df-generate:hover {\n",
              "        background-color: #E2EBFA;\n",
              "        box-shadow: 0px 1px 2px rgba(60, 64, 67, 0.3), 0px 1px 3px 1px rgba(60, 64, 67, 0.15);\n",
              "        fill: #174EA6;\n",
              "      }\n",
              "\n",
              "      [theme=dark] .colab-df-generate {\n",
              "        background-color: #3B4455;\n",
              "        fill: #D2E3FC;\n",
              "      }\n",
              "\n",
              "      [theme=dark] .colab-df-generate:hover {\n",
              "        background-color: #434B5C;\n",
              "        box-shadow: 0px 1px 3px 1px rgba(0, 0, 0, 0.15);\n",
              "        filter: drop-shadow(0px 1px 2px rgba(0, 0, 0, 0.3));\n",
              "        fill: #FFFFFF;\n",
              "      }\n",
              "    </style>\n",
              "    <button class=\"colab-df-generate\" onclick=\"generateWithVariable('df')\"\n",
              "            title=\"Generate code using this dataframe.\"\n",
              "            style=\"display:none;\">\n",
              "\n",
              "  <svg xmlns=\"http://www.w3.org/2000/svg\" height=\"24px\"viewBox=\"0 0 24 24\"\n",
              "       width=\"24px\">\n",
              "    <path d=\"M7,19H8.4L18.45,9,17,7.55,7,17.6ZM5,21V16.75L18.45,3.32a2,2,0,0,1,2.83,0l1.4,1.43a1.91,1.91,0,0,1,.58,1.4,1.91,1.91,0,0,1-.58,1.4L9.25,21ZM18.45,9,17,7.55Zm-12,3A5.31,5.31,0,0,0,4.9,8.1,5.31,5.31,0,0,0,1,6.5,5.31,5.31,0,0,0,4.9,4.9,5.31,5.31,0,0,0,6.5,1,5.31,5.31,0,0,0,8.1,4.9,5.31,5.31,0,0,0,12,6.5,5.46,5.46,0,0,0,6.5,12Z\"/>\n",
              "  </svg>\n",
              "    </button>\n",
              "    <script>\n",
              "      (() => {\n",
              "      const buttonEl =\n",
              "        document.querySelector('#id_50beb90b-2b3b-4e6c-8a58-8283580aaadc button.colab-df-generate');\n",
              "      buttonEl.style.display =\n",
              "        google.colab.kernel.accessAllowed ? 'block' : 'none';\n",
              "\n",
              "      buttonEl.onclick = () => {\n",
              "        google.colab.notebook.generateWithVariable('df');\n",
              "      }\n",
              "      })();\n",
              "    </script>\n",
              "  </div>\n",
              "\n",
              "    </div>\n",
              "  </div>\n"
            ],
            "application/vnd.google.colaboratory.intrinsic+json": {
              "type": "dataframe",
              "variable_name": "df"
            }
          },
          "metadata": {},
          "execution_count": 6
        }
      ]
    },
    {
      "cell_type": "code",
      "metadata": {
        "colab": {
          "base_uri": "https://localhost:8080/"
        },
        "id": "Cxf2wpC-q1RN",
        "outputId": "1d40e4e3-a82d-4d31-d9e2-7bcc29aade4e"
      },
      "source": [
        "df.columns.tolist()"
      ],
      "execution_count": 7,
      "outputs": [
        {
          "output_type": "execute_result",
          "data": {
            "text/plain": [
              "['user_id', 'status_id', 'status_text', 'geo', 'created_at', 'lookup_at']"
            ]
          },
          "metadata": {},
          "execution_count": 7
        }
      ]
    },
    {
      "cell_type": "code",
      "metadata": {
        "colab": {
          "base_uri": "https://localhost:8080/"
        },
        "id": "mZ24-gnMq9xA",
        "outputId": "157b69ab-b1ca-466b-bcf3-2c6ded702193"
      },
      "source": [
        "df.info()"
      ],
      "execution_count": 10,
      "outputs": [
        {
          "output_type": "stream",
          "name": "stdout",
          "text": [
            "<class 'pandas.core.frame.DataFrame'>\n",
            "RangeIndex: 858450 entries, 0 to 858449\n",
            "Data columns (total 6 columns):\n",
            " #   Column       Non-Null Count   Dtype              \n",
            "---  ------       --------------   -----              \n",
            " 0   user_id      858450 non-null  Int64              \n",
            " 1   status_id    858450 non-null  Int64              \n",
            " 2   status_text  858450 non-null  object             \n",
            " 3   geo          546332 non-null  object             \n",
            " 4   created_at   858450 non-null  datetime64[ns, UTC]\n",
            " 5   lookup_at    858450 non-null  datetime64[ns, UTC]\n",
            "dtypes: Int64(2), datetime64[ns, UTC](2), object(2)\n",
            "memory usage: 40.9+ MB\n"
          ]
        }
      ]
    },
    {
      "cell_type": "code",
      "metadata": {
        "colab": {
          "base_uri": "https://localhost:8080/"
        },
        "id": "YZHAJFU9q4Qr",
        "outputId": "b21c449c-e78e-4bbb-8aa7-eca45617306c"
      },
      "source": [
        "df.dtypes"
      ],
      "execution_count": 8,
      "outputs": [
        {
          "output_type": "execute_result",
          "data": {
            "text/plain": [
              "user_id                      Int64\n",
              "status_id                    Int64\n",
              "status_text                 object\n",
              "geo                         object\n",
              "created_at     datetime64[ns, UTC]\n",
              "lookup_at      datetime64[ns, UTC]\n",
              "dtype: object"
            ]
          },
          "metadata": {},
          "execution_count": 8
        }
      ]
    },
    {
      "cell_type": "code",
      "source": [
        "df.iloc[0][\"status_text\"]"
      ],
      "metadata": {
        "colab": {
          "base_uri": "https://localhost:8080/",
          "height": 35
        },
        "id": "hF_Gxwt972Qd",
        "outputId": "5ca824d4-5181-4264-bfaf-781688f9c5f2"
      },
      "execution_count": 12,
      "outputs": [
        {
          "output_type": "execute_result",
          "data": {
            "text/plain": [
              "'Radioactive Great white sharks swim among us at San Onofre https://t.co/Kmdi25K4is'"
            ],
            "application/vnd.google.colaboratory.intrinsic+json": {
              "type": "string"
            }
          },
          "metadata": {},
          "execution_count": 12
        }
      ]
    },
    {
      "cell_type": "code",
      "source": [
        "users_pivot = df.groupby(\"user_id\")[\"status_id\"].count().sort_values(ascending=False)\n",
        "users_pivot"
      ],
      "metadata": {
        "colab": {
          "base_uri": "https://localhost:8080/"
        },
        "id": "hqpPDRE48CDN",
        "outputId": "1ade6287-08f0-4627-e93b-30900f070ac4"
      },
      "execution_count": 15,
      "outputs": [
        {
          "output_type": "execute_result",
          "data": {
            "text/plain": [
              "user_id\n",
              "22778877               3250\n",
              "1124154425457516544    3201\n",
              "368563306              3160\n",
              "62613436               3153\n",
              "1017455405453234176    3052\n",
              "                       ... \n",
              "884372312992227329        1\n",
              "1189184489517248513       1\n",
              "1076881762264010752       1\n",
              "1189907538579513344       1\n",
              "999734366673690624        1\n",
              "Name: status_id, Length: 4493, dtype: int64"
            ]
          },
          "metadata": {},
          "execution_count": 15
        }
      ]
    },
    {
      "cell_type": "markdown",
      "source": [
        "### Exporting to Drive"
      ],
      "metadata": {
        "id": "ZrcVKgf88S4K"
      }
    },
    {
      "cell_type": "code",
      "source": [
        "import os\n",
        "from google.colab import drive\n",
        "\n",
        "drive.mount('/content/drive')\n"
      ],
      "metadata": {
        "colab": {
          "base_uri": "https://localhost:8080/"
        },
        "id": "i_eMkJ5fpKDp",
        "outputId": "069615dc-57d8-4a41-f408-985ed273d416"
      },
      "execution_count": 16,
      "outputs": [
        {
          "output_type": "stream",
          "name": "stdout",
          "text": [
            "Mounted at /content/drive\n"
          ]
        }
      ]
    },
    {
      "cell_type": "code",
      "execution_count": 17,
      "metadata": {
        "colab": {
          "base_uri": "https://localhost:8080/"
        },
        "id": "5OKjyFQ0owen",
        "outputId": "357c35f7-cb08-47a6-cba4-59c894b2329e"
      },
      "outputs": [
        {
          "output_type": "stream",
          "name": "stdout",
          "text": [
            "/content/drive/MyDrive/Research/DS Research Shared 2024\n"
          ]
        },
        {
          "output_type": "execute_result",
          "data": {
            "text/plain": [
              "True"
            ]
          },
          "metadata": {},
          "execution_count": 17
        }
      ],
      "source": [
        "# you might need to create a google drive SHORTCUT that has this same path\n",
        "# ... or update the path to use your own google drive organization\n",
        "DIRPATH = '/content/drive/MyDrive/Research/DS Research Shared 2024'\n",
        "os.path.isdir(DIRPATH)"
      ]
    },
    {
      "cell_type": "code",
      "source": [
        "DATA_DIRPATH = os.path.join(DIRPATH, \"projects\", \"Disinformation 2021 Embeddings\", \"data\")\n",
        "os.path.isdir(DATA_DIRPATH)"
      ],
      "metadata": {
        "colab": {
          "base_uri": "https://localhost:8080/"
        },
        "id": "5mbFGvZt8813",
        "outputId": "6223a407-90b8-46e6-86b1-a4841e7e8260"
      },
      "execution_count": 19,
      "outputs": [
        {
          "output_type": "execute_result",
          "data": {
            "text/plain": [
              "True"
            ]
          },
          "metadata": {},
          "execution_count": 19
        }
      ]
    },
    {
      "cell_type": "code",
      "source": [
        "csv_filepath = os.path.join(DATA_DIRPATH, \"q_user_timeline_tweets_original.csv.gz\")\n",
        "\n",
        "df.to_csv(csv_filepath, index=False, compression=\"gzip\")"
      ],
      "metadata": {
        "id": "nV9uhveQp2mi"
      },
      "execution_count": null,
      "outputs": []
    },
    {
      "cell_type": "code",
      "source": [],
      "metadata": {
        "id": "8Id9JnKY9Y3I"
      },
      "execution_count": null,
      "outputs": []
    }
  ]
}