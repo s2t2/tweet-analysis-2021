{
  "nbformat": 4,
  "nbformat_minor": 0,
  "metadata": {
    "colab": {
      "name": "Importing Helpers from GitHub Example",
      "provenance": [],
      "collapsed_sections": [
        "Xy-Oy7V3jbAT"
      ],
      "toc_visible": true,
      "authorship_tag": "ABX9TyMFUwK6x4D4hSYDHSFmsPJp",
      "include_colab_link": true
    },
    "kernelspec": {
      "name": "python3",
      "display_name": "Python 3"
    }
  },
  "cells": [
    {
      "cell_type": "markdown",
      "metadata": {
        "id": "view-in-github",
        "colab_type": "text"
      },
      "source": [
        "<a href=\"https://colab.research.google.com/github/s2t2/tweet-analysis-2021/blob/main/notebooks/Importing_Helper_Code_from_GitHub_Example.ipynb\" target=\"_parent\"><img src=\"https://colab.research.google.com/assets/colab-badge.svg\" alt=\"Open In Colab\"/></a>"
      ]
    },
    {
      "cell_type": "markdown",
      "metadata": {
        "id": "_-39w0IS18f-"
      },
      "source": [
        "This notebook demonstrates how to import code from a [Python helper file](https://github.com/s2t2/tweet-analysis-2021/blob/main/helpers/number_decorators.py) that's been checked in to GitHub."
      ]
    },
    {
      "cell_type": "markdown",
      "metadata": {
        "id": "Ymoi-E5OjZD5"
      },
      "source": [
        "# Setup"
      ]
    },
    {
      "cell_type": "code",
      "metadata": {
        "id": "4uPAcYqH_pWu"
      },
      "source": [
        "import os\n",
        "\n",
        "if not os.path.isfile(\"number_decorators.py\"):\n",
        "    print(\"DOWNLOADING NUMBER DECORATORS...\")\n",
        "    !wget -q https://raw.githubusercontent.com/s2t2/tweet-analysis-2021/main/helpers/number_decorators.py\n"
      ],
      "execution_count": 3,
      "outputs": []
    },
    {
      "cell_type": "markdown",
      "metadata": {
        "id": "4t48ewACjXQy"
      },
      "source": [
        "# Usage"
      ]
    },
    {
      "cell_type": "markdown",
      "metadata": {
        "id": "GF6DYkto6ojp"
      },
      "source": [
        "Importing the function from a local file:"
      ]
    },
    {
      "cell_type": "code",
      "metadata": {
        "colab": {
          "base_uri": "https://localhost:8080/"
        },
        "id": "rITcZKavAgQ6",
        "outputId": "e6591758-7953-4303-c91a-2dca2b479415"
      },
      "source": [
        "from number_decorators import fmt_usd\n",
        "\n",
        "print(fmt_usd(3.5))"
      ],
      "execution_count": 4,
      "outputs": [
        {
          "output_type": "stream",
          "text": [
            "$3.50\n"
          ],
          "name": "stdout"
        }
      ]
    }
  ]
}