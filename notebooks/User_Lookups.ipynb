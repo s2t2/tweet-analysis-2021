{
  "nbformat": 4,
  "nbformat_minor": 0,
  "metadata": {
    "colab": {
      "name": "User Lookups",
      "provenance": [],
      "collapsed_sections": [
        "nhjGPA33yNZP"
      ],
      "authorship_tag": "ABX9TyM2PFAL6NSTz9n/Mqkxr3vD",
      "include_colab_link": true
    },
    "kernelspec": {
      "name": "python3",
      "display_name": "Python 3"
    }
  },
  "cells": [
    {
      "cell_type": "markdown",
      "metadata": {
        "id": "view-in-github",
        "colab_type": "text"
      },
      "source": [
        "<a href=\"https://colab.research.google.com/github/s2t2/tweet-analysis-2021/blob/main/notebooks/User_Lookups.ipynb\" target=\"_parent\"><img src=\"https://colab.research.google.com/assets/colab-badge.svg\" alt=\"Open In Colab\"/></a>"
      ]
    },
    {
      "cell_type": "markdown",
      "metadata": {
        "id": "_-39w0IS18f-"
      },
      "source": [
        "Fetching tweets for each user in a given dataset."
      ]
    },
    {
      "cell_type": "markdown",
      "metadata": {
        "id": "Ymoi-E5OjZD5"
      },
      "source": [
        "# Setup"
      ]
    },
    {
      "cell_type": "markdown",
      "metadata": {
        "id": "Xy-Oy7V3jbAT"
      },
      "source": [
        "## Mounting the Drive"
      ]
    },
    {
      "cell_type": "code",
      "metadata": {
        "colab": {
          "base_uri": "https://localhost:8080/"
        },
        "id": "bG_NZo7ZgAau",
        "outputId": "7aad6cb8-131a-4819-8733-99e7198c93c3"
      },
      "source": [
        "import os\n",
        "\n",
        "from google.colab import drive\n",
        "\n",
        "drive.mount('/content/drive')\n",
        "print(os.listdir(os.getcwd())) "
      ],
      "execution_count": 135,
      "outputs": [
        {
          "output_type": "stream",
          "text": [
            "Drive already mounted at /content/drive; to attempt to forcibly remount, call drive.mount(\"/content/drive\", force_remount=True).\n",
            "['.config', 'number_decorators.py', '__pycache__', 'drive', 'sample_data']\n"
          ],
          "name": "stdout"
        }
      ]
    },
    {
      "cell_type": "code",
      "metadata": {
        "colab": {
          "base_uri": "https://localhost:8080/"
        },
        "id": "ymjYWDkkg1qM",
        "outputId": "33bae18d-4b77-4b12-e8fe-679cea402c75"
      },
      "source": [
        "DIRPATH = '/content/drive/My Drive/Research/Tweet Analysis 2021'\n",
        "print(DIRPATH)\n",
        "os.path.isdir(DIRPATH)"
      ],
      "execution_count": 136,
      "outputs": [
        {
          "output_type": "stream",
          "text": [
            "/content/drive/My Drive/Research/Tweet Analysis 2021\n"
          ],
          "name": "stdout"
        },
        {
          "output_type": "execute_result",
          "data": {
            "text/plain": [
              "True"
            ]
          },
          "metadata": {
            "tags": []
          },
          "execution_count": 136
        }
      ]
    },
    {
      "cell_type": "markdown",
      "metadata": {
        "id": "zRq45RoMjgeg"
      },
      "source": [
        "## Configuring Credentials \n"
      ]
    },
    {
      "cell_type": "code",
      "metadata": {
        "colab": {
          "base_uri": "https://localhost:8080/"
        },
        "id": "ZLXfpXHHiBJC",
        "outputId": "6b8394bf-de10-4833-b86b-650b8f74fd8d"
      },
      "source": [
        "# google.cloud checks the file at path designated by the GOOGLE_APPLICATION_CREDENTIALS env var\n",
        "# so we set it here using the shared credentials JSON file from our shared google drive\n",
        "os.environ[\"GOOGLE_APPLICATION_CREDENTIALS\"] = os.path.join(DIRPATH, \"credentials\", \"tweet-research-shared-268bbccc0aac.json\") \n",
        "# and verify it for good measure\n",
        "GOOGLE_APPLICATION_CREDENTIALS = os.getenv(\"GOOGLE_APPLICATION_CREDENTIALS\") # implicit check by google.cloud\n",
        "print(GOOGLE_APPLICATION_CREDENTIALS) # verification for implicit check\n",
        "print(os.path.isfile(GOOGLE_APPLICATION_CREDENTIALS)) # verification for implicit check"
      ],
      "execution_count": 137,
      "outputs": [
        {
          "output_type": "stream",
          "text": [
            "/content/drive/My Drive/Research/Tweet Analysis 2021/credentials/tweet-research-shared-268bbccc0aac.json\n",
            "True\n"
          ],
          "name": "stdout"
        }
      ]
    },
    {
      "cell_type": "code",
      "metadata": {
        "colab": {
          "base_uri": "https://localhost:8080/"
        },
        "id": "GmTPgdBg0yz2",
        "outputId": "099394be-b4c0-4338-d500-ba71c178a8a8"
      },
      "source": [
        "!pip install python-dotenv"
      ],
      "execution_count": 138,
      "outputs": [
        {
          "output_type": "stream",
          "text": [
            "Requirement already satisfied: python-dotenv in /usr/local/lib/python3.6/dist-packages (0.15.0)\n"
          ],
          "name": "stdout"
        }
      ]
    },
    {
      "cell_type": "code",
      "metadata": {
        "colab": {
          "base_uri": "https://localhost:8080/"
        },
        "id": "jkzHSjnXiUIl",
        "outputId": "83c44f68-2299-4c4d-d18d-e30ed9e77b8f"
      },
      "source": [
        "DOTENV_FILEPATH = os.path.join(DIRPATH, \"credentials\", \"tweet-research-shared.env\")\n",
        "print(DOTENV_FILEPATH)\n",
        "print(os.path.isfile(DOTENV_FILEPATH))"
      ],
      "execution_count": 139,
      "outputs": [
        {
          "output_type": "stream",
          "text": [
            "/content/drive/My Drive/Research/Tweet Analysis 2021/credentials/tweet-research-shared.env\n",
            "True\n"
          ],
          "name": "stdout"
        }
      ]
    },
    {
      "cell_type": "code",
      "metadata": {
        "colab": {
          "base_uri": "https://localhost:8080/"
        },
        "id": "O2NjQ1ho0x8U",
        "outputId": "e716acba-d586-4028-e567-a9267afc88b0"
      },
      "source": [
        "# load environment variables from the .env file stored on drive\n",
        "from dotenv import load_dotenv\n",
        "\n",
        "load_dotenv(DOTENV_FILEPATH)"
      ],
      "execution_count": 140,
      "outputs": [
        {
          "output_type": "execute_result",
          "data": {
            "text/plain": [
              "True"
            ]
          },
          "metadata": {
            "tags": []
          },
          "execution_count": 140
        }
      ]
    },
    {
      "cell_type": "markdown",
      "metadata": {
        "id": "ltGBbXFpmTA6"
      },
      "source": [
        "# Helpers"
      ]
    },
    {
      "cell_type": "markdown",
      "metadata": {
        "id": "ZBiJ4DRL54PN"
      },
      "source": [
        "## Number Decorators"
      ]
    },
    {
      "cell_type": "code",
      "metadata": {
        "id": "GXS2vsfI53Rv"
      },
      "source": [
        "if not os.path.isfile(\"number_decorators.py\"):\n",
        "    !wget -q https://raw.githubusercontent.com/s2t2/tweet-analysis-2021/main/helpers/number_decorators.py\n",
        "\n",
        "from number_decorators import fmt_n"
      ],
      "execution_count": 141,
      "outputs": []
    },
    {
      "cell_type": "markdown",
      "metadata": {
        "id": "D7AHRh645FX3"
      },
      "source": [
        "## BigQuery Service"
      ]
    },
    {
      "cell_type": "code",
      "metadata": {
        "id": "yOz8eD9JkA7-"
      },
      "source": [
        "#if not os.path.isfile(\"bq_service.py\"):\n",
        "#    !wget -q https://raw.githubusercontent.com/s2t2/tweet-analysis-2021/main/helpers/bq_service.py\n",
        "#\n",
        "#from bq_service import BigQueryService\n",
        "\n",
        "from google.cloud import bigquery\n",
        "from pandas import DataFrame\n",
        "\n",
        "\n",
        "def split_into_batches(my_list, batch_size=10_000):\n",
        "    \"\"\"Splits a list into evenly sized batches\"\"\" \n",
        "    # h/t: https://stackoverflow.com/questions/312443/how-do-you-split-a-list-into-evenly-sized-chunks\n",
        "    for i in range(0, len(my_list), batch_size):\n",
        "        yield my_list[i : i + batch_size]\n",
        "\n",
        "class BigQueryService():\n",
        "    def __init__(self):\n",
        "        self.client = bigquery.Client()\n",
        "\n",
        "    def execute_query(self, sql):\n",
        "        job = self.client.query(sql)\n",
        "        return job.result()\n",
        "\n",
        "    def query_to_df(self, sql):\n",
        "        records = [dict(row) for row in list(self.execute_query(sql))]\n",
        "        return DataFrame(records)\n",
        "\n",
        "    def insert_records_in_batches(self, table, records):\n",
        "        \"\"\"\n",
        "        Inserts records in batches because attempting to insert too many rows at once \n",
        "            may result in google.api_core.exceptions.BadRequest: 400\n",
        "\n",
        "        Params:\n",
        "            table (table ID string, Table, or TableReference)\n",
        "            records (list of dictionaries)\n",
        "        \"\"\"\n",
        "        rows_to_insert = [list(d.values()) for d in records]\n",
        "        #errors = self.client.insert_rows(table, rows_to_insert)\n",
        "        errors = []\n",
        "        batches = list(split_into_batches(rows_to_insert, batch_size=5_000))\n",
        "        for batch in batches:\n",
        "            errors += self.client.insert_rows(table, batch)\n",
        "        return errors\n",
        "\n"
      ],
      "execution_count": 142,
      "outputs": []
    },
    {
      "cell_type": "code",
      "metadata": {
        "colab": {
          "base_uri": "https://localhost:8080/"
        },
        "id": "-qBZo9ezksZz",
        "outputId": "3da416a3-03f3-48ef-dde2-fa7322b6ad21"
      },
      "source": [
        "\n",
        "bq_service = BigQueryService()\n",
        "print(bq_service)"
      ],
      "execution_count": 143,
      "outputs": [
        {
          "output_type": "stream",
          "text": [
            "<__main__.BigQueryService object at 0x7fd3580667b8>\n"
          ],
          "name": "stdout"
        }
      ]
    },
    {
      "cell_type": "markdown",
      "metadata": {
        "id": "nhjGPA33yNZP"
      },
      "source": [
        "## Twitter Service"
      ]
    },
    {
      "cell_type": "code",
      "metadata": {
        "id": "9LlqFvs9yONO"
      },
      "source": [
        "\n",
        "import tweepy\n",
        "#from tweepy import OAuthHandler, API, Cursor, TweepError\n",
        "#from tweepy.error import TweepError\n",
        "\n",
        "TWITTER_API_KEY = os.getenv(\"TWITTER_API_KEY\", default=\"OOPS\")\n",
        "TWITTER_API_KEY_SECRET = os.getenv(\"TWITTER_API_KEY_SECRET\", default=\"OOPS\")\n",
        "TWITTER_ACCESS_TOKEN = os.getenv(\"TWITTER_ACCESS_TOKEN\", default=\"OOPS\")\n",
        "TWITTER_ACCESS_TOKEN_SECRET = os.getenv(\"TWITTER_ACCESS_TOKEN_SECRET\", default=\"OOPS\")\n",
        "\n",
        "class TwitterService:\n",
        "    def __init__(self, api_key=TWITTER_API_KEY, api_key_secret=TWITTER_API_KEY_SECRET, \n",
        "                        access_token=TWITTER_ACCESS_TOKEN, access_token_secret=TWITTER_ACCESS_TOKEN_SECRET):\n",
        "        \"\"\"Docs: \n",
        "            https://docs.tweepy.org/en/latest/getting_started.html\n",
        "            https://docs.tweepy.org/en/latest/api.html\n",
        "        \"\"\"\n",
        "        auth = tweepy.OAuthHandler(api_key, api_key_secret)\n",
        "        auth.set_access_token(access_token, access_token_secret)\n",
        "        self.api = tweepy.API(auth, wait_on_rate_limit=True, wait_on_rate_limit_notify=True)\n",
        "\n",
        "    def get_user(self, screen_name):\n",
        "        return self.api.get_user(screen_name)\n",
        "\n",
        "    def get_tweets(self, screen_name):\n",
        "        return self.api.user_timeline(screen_name, \n",
        "            tweet_mode=\"extended\", \n",
        "            #count=150, \n",
        "            exclude_replies=True, \n",
        "            include_rts=False\n",
        "        )\n",
        "\n",
        "    def get_statuses(self, screen_name=None, user_id=None, limit=2000):\n",
        "        \"\"\"See: \n",
        "            https://docs.tweepy.org/en/latest/api.html#timeline-methods \n",
        "            https://docs.tweepy.org/en/v3.10.0/cursor_tutorial.html\n",
        "        \"\"\"\n",
        "        request_params = {\"cursor\": -1, \"exclude_replies\": False, \"include_rts\": True}\n",
        "        if user_id: \n",
        "            request_params[\"user_id\"] = user_id\n",
        "        elif screen_name: \n",
        "            request_params[\"screen_name\"] = screen_name\n",
        "\n",
        "        cursor = tweepy.Cursor(self.api.user_timeline, **request_params)\n",
        "        return cursor.items(limit)\n",
        "        #return cursor.pages()\n"
      ],
      "execution_count": 144,
      "outputs": []
    },
    {
      "cell_type": "code",
      "metadata": {
        "colab": {
          "base_uri": "https://localhost:8080/"
        },
        "id": "Cvae8zZgrvbw",
        "outputId": "2ae0f125-52fa-4dd0-e298-404e81a1559d"
      },
      "source": [
        "twitter_service = TwitterService()\n",
        "print(twitter_service)"
      ],
      "execution_count": 145,
      "outputs": [
        {
          "output_type": "stream",
          "text": [
            "<__main__.TwitterService object at 0x7fd3580c7438>\n"
          ],
          "name": "stdout"
        }
      ]
    },
    {
      "cell_type": "code",
      "metadata": {
        "colab": {
          "base_uri": "https://localhost:8080/"
        },
        "id": "mTo1x9K43bUp",
        "outputId": "a22d8dda-1288-4135-cb53-f2d0d416c18d"
      },
      "source": [
        "from pprint import pprint\n",
        "\n",
        "screen_name = \"s2t2\"\n",
        "\n",
        "user = twitter_service.get_user(screen_name)\n",
        "#pprint(user._json)\n",
        "print(\"USER:\", screen_name.upper())\n",
        "print(\"FOLLOWERS:\", fmt_n(user.followers_count))\n",
        "print(\"FRIENDS:\", fmt_n(user.friends_count))\n",
        "print(\"STATUSES:\", fmt_n(user.statuses_count))\n",
        "print(\"LISTED:\", fmt_n(user.listed_count))\n",
        "print(\"LATEST_STATUS:\", user.status.id, user.status.text)\n",
        "\n",
        "#counter = 1\n",
        "#for status in twitter_service.get_statuses(screen_name):\n",
        "#    print(\"----------------\")\n",
        "#    print(counter, status)\n",
        "#    counter+=1\n",
        "#    #if counter >= 100: break\n",
        "\n",
        "#print(\"GET STATUSES:\", len(list(twitter_service.get_statuses(screen_name))))"
      ],
      "execution_count": null,
      "outputs": [
        {
          "output_type": "stream",
          "text": [
            "Rate limit reached. Sleeping for: 465\n"
          ],
          "name": "stderr"
        }
      ]
    },
    {
      "cell_type": "code",
      "metadata": {
        "id": "Cnvu_gsfzJtv"
      },
      "source": [
        "\n"
      ],
      "execution_count": null,
      "outputs": []
    },
    {
      "cell_type": "markdown",
      "metadata": {
        "id": "4t48ewACjXQy"
      },
      "source": [
        "# Fetching Users from BigQuery"
      ]
    },
    {
      "cell_type": "code",
      "metadata": {
        "id": "VqcEDdDMno-u"
      },
      "source": [
        "sql = \"\"\"\n",
        "    SELECT \n",
        "        count(distinct status_id) as status_count \n",
        "        ,count(distinct user_id) as user_count\n",
        "    FROM `tweet-research-shared.disinfo_2021.tweets_view` t\n",
        "\"\"\"\n",
        "#results = list(bq_service.execute_query(sql, verbose=True))\n",
        "#results = dict(results[0])\n",
        "#print(\"TWEETS:\", fmt_n(results[\"status_count\"]))\n",
        "#print(\"USERS:\", fmt_n(results[\"user_count\"]))\n",
        "bq_service.query_to_df(sql)"
      ],
      "execution_count": null,
      "outputs": []
    },
    {
      "cell_type": "code",
      "metadata": {
        "id": "BcnoBnUAt55l"
      },
      "source": [
        "sql = \"\"\"\n",
        "    SELECT\n",
        "       count(distinct user_id) as user_count\n",
        "       ,count(distinct status_id) as status_count\n",
        "    FROM `tweet-research-shared.disinfo_2021.tweets_view`\n",
        "    WHERE REGEXP_CONTAINS(upper(status_text), '#WWG1WGA')\n",
        "\"\"\"\n",
        "bq_service.query_to_df(sql)"
      ],
      "execution_count": null,
      "outputs": []
    },
    {
      "cell_type": "code",
      "metadata": {
        "id": "YZHAJFU9q4Qr"
      },
      "source": [
        "limit = None\n",
        "term = \"#WWG1WGA\"\n",
        "\n",
        "sql = f\"\"\"\n",
        "    WITH users as (\n",
        "        SELECT \n",
        "            t.user_id\n",
        "            ,string_agg(distinct upper(t.user_screen_name), ', ') as screen_names\n",
        "            ,any_value(t.user_verified) as user_verified\n",
        "            ,extract(date from any_value(t.user_created_at)) as user_created_on\n",
        "            ,count(distinct t.status_id) as status_count\n",
        "        FROM `tweet-research-shared.disinfo_2021.tweets_view` t\n",
        "        WHERE REGEXP_CONTAINS(upper(status_text), '{term}')\n",
        "        GROUP BY 1\n",
        "        ORDER BY status_count desc\n",
        "    )\n",
        "\n",
        "    SELECT \n",
        "        u.*\n",
        "        --,ul.user_id as lookup_user_id\n",
        "    FROM users u\n",
        "    LEFT JOIN `tweet-research-shared.disinfo_2021.user_lookups` ul ON ul.user_id = u.user_id\n",
        "        AND ul.user_id is null -- skip previously looked up users\n",
        "    ORDER BY status_count desc\n",
        "\"\"\"\n",
        "if limit:\n",
        "    sql += f\" LIMIT {limit} \"\n",
        "\n",
        "users_df = bq_service.query_to_df(sql)\n",
        "users_df"
      ],
      "execution_count": null,
      "outputs": []
    },
    {
      "cell_type": "markdown",
      "metadata": {
        "id": "yDrgIiVFyB8H"
      },
      "source": [
        "# Fetching Users from Twitter"
      ]
    },
    {
      "cell_type": "code",
      "metadata": {
        "id": "mZ24-gnMq9xA"
      },
      "source": [
        "users_df.head()"
      ],
      "execution_count": null,
      "outputs": []
    },
    {
      "cell_type": "code",
      "metadata": {
        "id": "GO1L9jac4HMa"
      },
      "source": [
        "#from pdb import set_trace as breakpoint\n",
        "\n",
        "#zzz = None\n",
        "records = []\n",
        "\n",
        "for index, row in users_df.iterrows():\n",
        "    #print(index, dict(row))\n",
        "    #if index >=5: break\n",
        "\n",
        "    record = {\n",
        "        \"user_id\": row[\"user_id\"],\n",
        "        \"error_code\": None,\n",
        "        \"follower_count\": None,\n",
        "        \"friend_count\": None,\n",
        "        \"listed_count\": None,\n",
        "        \"status_count\": None,\n",
        "        \"latest_status_id\": None\n",
        "    }\n",
        "    try:\n",
        "        user = twitter_service.get_user(row[\"user_id\"])\n",
        "        record[\"follower_count\"] = user.followers_count\n",
        "        record[\"friend_count\"] = user.friends_count\n",
        "        record[\"listed_count\"] = user.listed_count\n",
        "        record[\"status_count\"] = user.statuses_count\n",
        "        try:\n",
        "            # 'User' object has no attribute 'status'\n",
        "            record[\"latest_status_id\"] = user.status.id\n",
        "        except:\n",
        "            pass\n",
        "    except tweepy.error.TweepError as err:\n",
        "        #breakpoint()\n",
        "        #zzz = err # cache for later / attempts to parse the reason attribute. its ok we can look up the code here:\n",
        "        # https://developer.twitter.com/ja/docs/basics/response-codes\n",
        "        # 63 means user has been suspended, etc.\n",
        "        record[\"error_code\"] = err.api_code\n",
        "    \n",
        "    print(index, record)\n",
        "    records.append(record)\n"
      ],
      "execution_count": null,
      "outputs": []
    },
    {
      "cell_type": "code",
      "metadata": {
        "id": "b3nTHP0P8zYd"
      },
      "source": [
        "#zzz\n",
        "#pprint(dir(zzz))\n",
        "#zzz.reason\n",
        "#zzz.api_code"
      ],
      "execution_count": null,
      "outputs": []
    },
    {
      "cell_type": "markdown",
      "metadata": {
        "id": "wrWR2x5FFdPr"
      },
      "source": [
        "## Storing User Lookups in BigQuery"
      ]
    },
    {
      "cell_type": "code",
      "metadata": {
        "id": "9PzGPXSL4l4L"
      },
      "source": [
        "table = bq_service.client.get_table(\"tweet-research-shared.disinfo_2021.user_lookups\")\n",
        "bq_service.insert_records_in_batches(records=records, table=table)"
      ],
      "execution_count": null,
      "outputs": []
    },
    {
      "cell_type": "code",
      "metadata": {
        "id": "3MDuZhOvFhf7"
      },
      "source": [
        "bq_service.query_to_df(\"\"\"\n",
        "    SELECT count(distinct user_id) as user_count FROM `tweet-research-shared.disinfo_2021.user_lookups` \n",
        "\"\"\")"
      ],
      "execution_count": null,
      "outputs": []
    }
  ]
}