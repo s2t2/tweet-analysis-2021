{
  "nbformat": 4,
  "nbformat_minor": 0,
  "metadata": {
    "colab": {
      "provenance": [],
      "collapsed_sections": [
        "Ymoi-E5OjZD5"
      ],
      "machine_shape": "hm",
      "authorship_tag": "ABX9TyNWJ/VVBmsaK4UWQd2f3Iws",
      "include_colab_link": true
    },
    "kernelspec": {
      "name": "python3",
      "display_name": "Python 3"
    },
    "widgets": {
      "application/vnd.jupyter.widget-state+json": {
        "8acf7e56455245afba1cb9a9ec8b7c3e": {
          "model_module": "@jupyter-widgets/controls",
          "model_name": "HBoxModel",
          "model_module_version": "1.5.0",
          "state": {
            "_dom_classes": [],
            "_model_module": "@jupyter-widgets/controls",
            "_model_module_version": "1.5.0",
            "_model_name": "HBoxModel",
            "_view_count": null,
            "_view_module": "@jupyter-widgets/controls",
            "_view_module_version": "1.5.0",
            "_view_name": "HBoxView",
            "box_style": "",
            "children": [
              "IPY_MODEL_3c7aa06d71c14eadba8f984710b6dd72",
              "IPY_MODEL_1b274159035645df91618fa9f2678733",
              "IPY_MODEL_6014c816dcea44ba98b9e15373c34557"
            ],
            "layout": "IPY_MODEL_4e1ee0c232bb4550b60c16d6201e3850"
          }
        },
        "3c7aa06d71c14eadba8f984710b6dd72": {
          "model_module": "@jupyter-widgets/controls",
          "model_name": "HTMLModel",
          "model_module_version": "1.5.0",
          "state": {
            "_dom_classes": [],
            "_model_module": "@jupyter-widgets/controls",
            "_model_module_version": "1.5.0",
            "_model_name": "HTMLModel",
            "_view_count": null,
            "_view_module": "@jupyter-widgets/controls",
            "_view_module_version": "1.5.0",
            "_view_name": "HTMLView",
            "description": "",
            "description_tooltip": null,
            "layout": "IPY_MODEL_360e27ca8ce24f469ce55a03dde6be5c",
            "placeholder": "​",
            "style": "IPY_MODEL_be9571d1d4474280b94dbba75a017e47",
            "value": "Downloading: 100%"
          }
        },
        "1b274159035645df91618fa9f2678733": {
          "model_module": "@jupyter-widgets/controls",
          "model_name": "FloatProgressModel",
          "model_module_version": "1.5.0",
          "state": {
            "_dom_classes": [],
            "_model_module": "@jupyter-widgets/controls",
            "_model_module_version": "1.5.0",
            "_model_name": "FloatProgressModel",
            "_view_count": null,
            "_view_module": "@jupyter-widgets/controls",
            "_view_module_version": "1.5.0",
            "_view_name": "ProgressView",
            "bar_style": "success",
            "description": "",
            "description_tooltip": null,
            "layout": "IPY_MODEL_b60147cdc22f437385e2ac1ffc8a52e3",
            "max": 12009815,
            "min": 0,
            "orientation": "horizontal",
            "style": "IPY_MODEL_853bb8b413a14cf9bfed3c91addefc54",
            "value": 12009815
          }
        },
        "6014c816dcea44ba98b9e15373c34557": {
          "model_module": "@jupyter-widgets/controls",
          "model_name": "HTMLModel",
          "model_module_version": "1.5.0",
          "state": {
            "_dom_classes": [],
            "_model_module": "@jupyter-widgets/controls",
            "_model_module_version": "1.5.0",
            "_model_name": "HTMLModel",
            "_view_count": null,
            "_view_module": "@jupyter-widgets/controls",
            "_view_module_version": "1.5.0",
            "_view_name": "HTMLView",
            "description": "",
            "description_tooltip": null,
            "layout": "IPY_MODEL_0375b4dc93234dc396c10438046110e0",
            "placeholder": "​",
            "style": "IPY_MODEL_eee59eace4034ea59a659276c4567680",
            "value": ""
          }
        },
        "4e1ee0c232bb4550b60c16d6201e3850": {
          "model_module": "@jupyter-widgets/base",
          "model_name": "LayoutModel",
          "model_module_version": "1.2.0",
          "state": {
            "_model_module": "@jupyter-widgets/base",
            "_model_module_version": "1.2.0",
            "_model_name": "LayoutModel",
            "_view_count": null,
            "_view_module": "@jupyter-widgets/base",
            "_view_module_version": "1.2.0",
            "_view_name": "LayoutView",
            "align_content": null,
            "align_items": null,
            "align_self": null,
            "border": null,
            "bottom": null,
            "display": null,
            "flex": null,
            "flex_flow": null,
            "grid_area": null,
            "grid_auto_columns": null,
            "grid_auto_flow": null,
            "grid_auto_rows": null,
            "grid_column": null,
            "grid_gap": null,
            "grid_row": null,
            "grid_template_areas": null,
            "grid_template_columns": null,
            "grid_template_rows": null,
            "height": null,
            "justify_content": null,
            "justify_items": null,
            "left": null,
            "margin": null,
            "max_height": null,
            "max_width": null,
            "min_height": null,
            "min_width": null,
            "object_fit": null,
            "object_position": null,
            "order": null,
            "overflow": null,
            "overflow_x": null,
            "overflow_y": null,
            "padding": null,
            "right": null,
            "top": null,
            "visibility": null,
            "width": null
          }
        },
        "360e27ca8ce24f469ce55a03dde6be5c": {
          "model_module": "@jupyter-widgets/base",
          "model_name": "LayoutModel",
          "model_module_version": "1.2.0",
          "state": {
            "_model_module": "@jupyter-widgets/base",
            "_model_module_version": "1.2.0",
            "_model_name": "LayoutModel",
            "_view_count": null,
            "_view_module": "@jupyter-widgets/base",
            "_view_module_version": "1.2.0",
            "_view_name": "LayoutView",
            "align_content": null,
            "align_items": null,
            "align_self": null,
            "border": null,
            "bottom": null,
            "display": null,
            "flex": null,
            "flex_flow": null,
            "grid_area": null,
            "grid_auto_columns": null,
            "grid_auto_flow": null,
            "grid_auto_rows": null,
            "grid_column": null,
            "grid_gap": null,
            "grid_row": null,
            "grid_template_areas": null,
            "grid_template_columns": null,
            "grid_template_rows": null,
            "height": null,
            "justify_content": null,
            "justify_items": null,
            "left": null,
            "margin": null,
            "max_height": null,
            "max_width": null,
            "min_height": null,
            "min_width": null,
            "object_fit": null,
            "object_position": null,
            "order": null,
            "overflow": null,
            "overflow_x": null,
            "overflow_y": null,
            "padding": null,
            "right": null,
            "top": null,
            "visibility": null,
            "width": null
          }
        },
        "be9571d1d4474280b94dbba75a017e47": {
          "model_module": "@jupyter-widgets/controls",
          "model_name": "DescriptionStyleModel",
          "model_module_version": "1.5.0",
          "state": {
            "_model_module": "@jupyter-widgets/controls",
            "_model_module_version": "1.5.0",
            "_model_name": "DescriptionStyleModel",
            "_view_count": null,
            "_view_module": "@jupyter-widgets/base",
            "_view_module_version": "1.2.0",
            "_view_name": "StyleView",
            "description_width": ""
          }
        },
        "b60147cdc22f437385e2ac1ffc8a52e3": {
          "model_module": "@jupyter-widgets/base",
          "model_name": "LayoutModel",
          "model_module_version": "1.2.0",
          "state": {
            "_model_module": "@jupyter-widgets/base",
            "_model_module_version": "1.2.0",
            "_model_name": "LayoutModel",
            "_view_count": null,
            "_view_module": "@jupyter-widgets/base",
            "_view_module_version": "1.2.0",
            "_view_name": "LayoutView",
            "align_content": null,
            "align_items": null,
            "align_self": null,
            "border": null,
            "bottom": null,
            "display": null,
            "flex": null,
            "flex_flow": null,
            "grid_area": null,
            "grid_auto_columns": null,
            "grid_auto_flow": null,
            "grid_auto_rows": null,
            "grid_column": null,
            "grid_gap": null,
            "grid_row": null,
            "grid_template_areas": null,
            "grid_template_columns": null,
            "grid_template_rows": null,
            "height": null,
            "justify_content": null,
            "justify_items": null,
            "left": null,
            "margin": null,
            "max_height": null,
            "max_width": null,
            "min_height": null,
            "min_width": null,
            "object_fit": null,
            "object_position": null,
            "order": null,
            "overflow": null,
            "overflow_x": null,
            "overflow_y": null,
            "padding": null,
            "right": null,
            "top": null,
            "visibility": null,
            "width": null
          }
        },
        "853bb8b413a14cf9bfed3c91addefc54": {
          "model_module": "@jupyter-widgets/controls",
          "model_name": "ProgressStyleModel",
          "model_module_version": "1.5.0",
          "state": {
            "_model_module": "@jupyter-widgets/controls",
            "_model_module_version": "1.5.0",
            "_model_name": "ProgressStyleModel",
            "_view_count": null,
            "_view_module": "@jupyter-widgets/base",
            "_view_module_version": "1.2.0",
            "_view_name": "StyleView",
            "bar_color": null,
            "description_width": ""
          }
        },
        "0375b4dc93234dc396c10438046110e0": {
          "model_module": "@jupyter-widgets/base",
          "model_name": "LayoutModel",
          "model_module_version": "1.2.0",
          "state": {
            "_model_module": "@jupyter-widgets/base",
            "_model_module_version": "1.2.0",
            "_model_name": "LayoutModel",
            "_view_count": null,
            "_view_module": "@jupyter-widgets/base",
            "_view_module_version": "1.2.0",
            "_view_name": "LayoutView",
            "align_content": null,
            "align_items": null,
            "align_self": null,
            "border": null,
            "bottom": null,
            "display": null,
            "flex": null,
            "flex_flow": null,
            "grid_area": null,
            "grid_auto_columns": null,
            "grid_auto_flow": null,
            "grid_auto_rows": null,
            "grid_column": null,
            "grid_gap": null,
            "grid_row": null,
            "grid_template_areas": null,
            "grid_template_columns": null,
            "grid_template_rows": null,
            "height": null,
            "justify_content": null,
            "justify_items": null,
            "left": null,
            "margin": null,
            "max_height": null,
            "max_width": null,
            "min_height": null,
            "min_width": null,
            "object_fit": null,
            "object_position": null,
            "order": null,
            "overflow": null,
            "overflow_x": null,
            "overflow_y": null,
            "padding": null,
            "right": null,
            "top": null,
            "visibility": null,
            "width": null
          }
        },
        "eee59eace4034ea59a659276c4567680": {
          "model_module": "@jupyter-widgets/controls",
          "model_name": "DescriptionStyleModel",
          "model_module_version": "1.5.0",
          "state": {
            "_model_module": "@jupyter-widgets/controls",
            "_model_module_version": "1.5.0",
            "_model_name": "DescriptionStyleModel",
            "_view_count": null,
            "_view_module": "@jupyter-widgets/base",
            "_view_module_version": "1.2.0",
            "_view_name": "StyleView",
            "description_width": ""
          }
        }
      }
    }
  },
  "cells": [
    {
      "cell_type": "markdown",
      "metadata": {
        "id": "view-in-github",
        "colab_type": "text"
      },
      "source": [
        "<a href=\"https://colab.research.google.com/github/s2t2/tweet-analysis-2021/blob/main/notebooks/Exporting_Disinfo_User_Timeline_Tweets_to_CSV_20240325.ipynb\" target=\"_parent\"><img src=\"https://colab.research.google.com/assets/colab-badge.svg\" alt=\"Open In Colab\"/></a>"
      ]
    },
    {
      "cell_type": "markdown",
      "metadata": {
        "id": "_-39w0IS18f-"
      },
      "source": [
        "Exporting data to drive..."
      ]
    },
    {
      "cell_type": "markdown",
      "source": [
        "Earlier we only exported the \"original\" tweets (excluding RTs, mentions, and replies). Now let's also export the remainder. There are 11M tweets total. If we store in Parquert it might be ok."
      ],
      "metadata": {
        "id": "oBxubBmFB8O1"
      }
    },
    {
      "cell_type": "markdown",
      "source": [
        "Using \"High RAM\" runtime on Colab."
      ],
      "metadata": {
        "id": "rPpuTuqDKYJR"
      }
    },
    {
      "cell_type": "markdown",
      "metadata": {
        "id": "D7AHRh645FX3"
      },
      "source": [
        "### BigQuery Service"
      ]
    },
    {
      "cell_type": "code",
      "source": [
        "from google.colab import auth\n",
        "\n",
        "auth.authenticate_user()"
      ],
      "metadata": {
        "id": "rfJKRImngZAw"
      },
      "execution_count": 2,
      "outputs": []
    },
    {
      "cell_type": "code",
      "source": [
        "#from google.auth import default\n",
        "#creds, _ = default()\n",
        "#print(creds)"
      ],
      "metadata": {
        "id": "w5cAeKKYgY31"
      },
      "execution_count": 3,
      "outputs": []
    },
    {
      "cell_type": "code",
      "source": [
        "from google.cloud import bigquery\n",
        "from pandas import DataFrame, read_gbq\n",
        "\n",
        "#PROJECT_ID = \"tweet-collector-py\"\n",
        "PROJECT_ID = \"tweet-research-shared\"\n",
        "\n",
        "class BigQueryService():\n",
        "    def __init__(self, project_id=PROJECT_ID):\n",
        "        self.project_id = project_id\n",
        "        self.client = bigquery.Client(project=self.project_id)\n",
        "\n",
        "    def execute_query(self, sql, verbose=True):\n",
        "        if verbose == True:\n",
        "            print(sql)\n",
        "        job = self.client.query(sql)\n",
        "        return job.result()\n",
        "\n",
        "    #def query_to_df(self, sql, verbose=True):\n",
        "    #    \"\"\"high-level wrapper to return a DataFrame\"\"\"\n",
        "    #    results = self.execute_query(sql, verbose=verbose)\n",
        "    #    return DataFrame([dict(row) for row in results])\n",
        "\n",
        "    def query_to_df(self, sql, verbose=True):\n",
        "        \"\"\"high-level wrapper to return a DataFrame\"\"\"\n",
        "        if verbose == True:\n",
        "            print(sql)\n",
        "        # https://pandas.pydata.org/docs/reference/api/pandas.read_gbq.html#pandas-read-gbq\n",
        "        return read_gbq(sql, project_id=self.project_id, progress_bar_type=\"tqdm_notebook\")\n"
      ],
      "metadata": {
        "id": "RmRzz0xxf_7U"
      },
      "execution_count": 4,
      "outputs": []
    },
    {
      "cell_type": "code",
      "metadata": {
        "id": "-qBZo9ezksZz",
        "colab": {
          "base_uri": "https://localhost:8080/"
        },
        "outputId": "d4dcc9c5-e3c9-40c3-82f8-34551a430e56"
      },
      "source": [
        "bq = BigQueryService()\n",
        "print(bq)"
      ],
      "execution_count": 5,
      "outputs": [
        {
          "output_type": "stream",
          "name": "stdout",
          "text": [
            "<__main__.BigQueryService object at 0x7996e95a0cd0>\n"
          ]
        }
      ]
    },
    {
      "cell_type": "code",
      "source": [
        "print(\"DATASETS:\")\n",
        "datasets = list(bq.client.list_datasets())"
      ],
      "metadata": {
        "id": "aYbFLi93gBgi"
      },
      "execution_count": null,
      "outputs": []
    },
    {
      "cell_type": "code",
      "source": [
        "for ds in datasets:\n",
        "    #print(\"...\", ds.project, ds.dataset_id)\n",
        "    if \"user\" not in ds.dataset_id:\n",
        "        print(\"...\", ds.reference)"
      ],
      "metadata": {
        "colab": {
          "base_uri": "https://localhost:8080/"
        },
        "id": "x4vmQW4eKQr4",
        "outputId": "c9087d93-6186-4041-8e83-98073c15ddc8"
      },
      "execution_count": 7,
      "outputs": [
        {
          "output_type": "stream",
          "name": "stdout",
          "text": [
            "... tweet-research-shared.analysis_2021\n",
            "... tweet-research-shared.disinfo_2021\n",
            "... tweet-research-shared.election_2020\n",
            "... tweet-research-shared.election_2020_transition_2021_combined\n",
            "... tweet-research-shared.f1_racing_2023\n",
            "... tweet-research-shared.impeachment_2020\n",
            "... tweet-research-shared.impeachment_2021\n",
            "... tweet-research-shared.transition_2021\n",
            "... tweet-research-shared.truth_2023\n"
          ]
        }
      ]
    },
    {
      "cell_type": "markdown",
      "metadata": {
        "id": "4t48ewACjXQy"
      },
      "source": [
        "# Usage"
      ]
    },
    {
      "cell_type": "markdown",
      "source": [
        "Fetch table of \"original\" timeline tweets (excludes rt, reply, quotes):"
      ],
      "metadata": {
        "id": "tsjt8UD-c2Wh"
      }
    },
    {
      "cell_type": "code",
      "source": [
        "print(\"------------\")\n",
        "print(\"QUERY:\")\n",
        "sql = \"\"\"\n",
        "    SELECT user_id, status_id, status_text, geo, created_at, lookup_at\n",
        "        ,truncated\n",
        "        ,is_quote\n",
        "        ,reply_status_id , reply_user_id, is_reply\n",
        "        ,retweeted_status_id, retweeted_user_id, retweeted_user_screen_name ,is_rt\n",
        "    FROM `tweet-research-shared.disinfo_2021.q_user_timeline_tweets`\n",
        "\"\"\"\n",
        "\n",
        "df = bq.query_to_df(sql, verbose=True)\n",
        "df"
      ],
      "metadata": {
        "colab": {
          "base_uri": "https://localhost:8080/",
          "height": 1000,
          "referenced_widgets": [
            "8acf7e56455245afba1cb9a9ec8b7c3e",
            "3c7aa06d71c14eadba8f984710b6dd72",
            "1b274159035645df91618fa9f2678733",
            "6014c816dcea44ba98b9e15373c34557",
            "4e1ee0c232bb4550b60c16d6201e3850",
            "360e27ca8ce24f469ce55a03dde6be5c",
            "be9571d1d4474280b94dbba75a017e47",
            "b60147cdc22f437385e2ac1ffc8a52e3",
            "853bb8b413a14cf9bfed3c91addefc54",
            "0375b4dc93234dc396c10438046110e0",
            "eee59eace4034ea59a659276c4567680"
          ]
        },
        "id": "-yk6fKbac4Bq",
        "outputId": "b7e5ffeb-20d4-4653-f74e-3184cbd3f6db"
      },
      "execution_count": 8,
      "outputs": [
        {
          "output_type": "stream",
          "name": "stdout",
          "text": [
            "------------\n",
            "QUERY:\n",
            "\n",
            "    SELECT user_id, status_id, status_text, geo, created_at, lookup_at\n",
            "        ,truncated\n",
            "        ,is_quote\n",
            "        ,reply_status_id , reply_user_id, is_reply\n",
            "        ,retweeted_status_id, retweeted_user_id, retweeted_user_screen_name ,is_rt\n",
            "    FROM `tweet-research-shared.disinfo_2021.q_user_timeline_tweets`\n",
            "\n"
          ]
        },
        {
          "output_type": "display_data",
          "data": {
            "text/plain": [
              "Downloading:   0%|          |"
            ],
            "application/vnd.jupyter.widget-view+json": {
              "version_major": 2,
              "version_minor": 0,
              "model_id": "8acf7e56455245afba1cb9a9ec8b7c3e"
            }
          },
          "metadata": {}
        },
        {
          "output_type": "execute_result",
          "data": {
            "text/plain": [
              "                      user_id            status_id  \\\n",
              "0                  2733971311  1369380656766197771   \n",
              "1                  2734066113  1325520341553336321   \n",
              "2                  2734066113  1325939383971753987   \n",
              "3                  2734066113  1335319784821563396   \n",
              "4                  2734066113  1351972312275443713   \n",
              "...                       ...                  ...   \n",
              "12009810   809801490705612800  1355149896014127112   \n",
              "12009811   811250837465006081  1368930001198911488   \n",
              "12009812           1067365741  1360288352927445002   \n",
              "12009813  1069437140184981504  1364303479720747011   \n",
              "12009814           4869866260  1348662766668800004   \n",
              "\n",
              "                                                status_text   geo  \\\n",
              "0         RT @TAFEeducation: Be straight with us, Minist...  None   \n",
              "1         RT @TomFitton: Tom Fitton: @RealDonaldTrump wo...  None   \n",
              "2         RT @MattRinaldiTX: This guy is on @JoeBiden’s ...  None   \n",
              "3         RT @atensnut: Will Ruby Freeman be allowed any...  None   \n",
              "4         RT @K1erry: WaPo Finally Admits Trump DIDN'T I...  None   \n",
              "...                                                     ...   ...   \n",
              "12009810  RT @DonaldJTrumpJr: Any Republican in Washingt...  None   \n",
              "12009811  RT @DonaldJTrumpJr: Imagine how many more ther...  None   \n",
              "12009812  RT @DonaldJTrumpJr: Trump impeachment trial --...  None   \n",
              "12009813  RT @DonaldJTrumpJr: You knew it was coming!!! ...  None   \n",
              "12009814  RT @DonaldJTrumpJr: This times 1000 https://t....  None   \n",
              "\n",
              "                        created_at                 lookup_at  truncated  \\\n",
              "0        2021-03-09 20:12:45+00:00 2021-03-28 07:47:04+00:00      False   \n",
              "1        2020-11-08 19:27:31+00:00 2021-02-13 16:23:42+00:00      False   \n",
              "2        2020-11-09 23:12:38+00:00 2021-02-13 16:23:42+00:00      False   \n",
              "3        2020-12-05 20:27:00+00:00 2021-02-13 16:23:39+00:00      False   \n",
              "4        2021-01-20 19:18:12+00:00 2021-02-13 16:23:36+00:00      False   \n",
              "...                            ...                       ...        ...   \n",
              "12009810 2021-01-29 13:44:47+00:00 2021-04-12 13:20:49+00:00      False   \n",
              "12009811 2021-03-08 14:22:00+00:00 2021-05-06 02:08:24+00:00      False   \n",
              "12009812 2021-02-12 18:03:10+00:00 2021-02-14 03:23:05+00:00      False   \n",
              "12009813 2021-02-23 19:57:51+00:00 2021-04-03 22:44:47+00:00      False   \n",
              "12009814 2021-01-11 16:07:15+00:00 2021-02-14 08:39:07+00:00      False   \n",
              "\n",
              "          is_quote  reply_status_id  reply_user_id  is_reply  \\\n",
              "0             True             <NA>           <NA>     False   \n",
              "1            False             <NA>           <NA>     False   \n",
              "2            False             <NA>           <NA>     False   \n",
              "3            False             <NA>           <NA>     False   \n",
              "4            False             <NA>           <NA>     False   \n",
              "...            ...              ...            ...       ...   \n",
              "12009810     False             <NA>           <NA>     False   \n",
              "12009811      True             <NA>           <NA>     False   \n",
              "12009812     False             <NA>           <NA>     False   \n",
              "12009813     False             <NA>           <NA>     False   \n",
              "12009814      True             <NA>           <NA>     False   \n",
              "\n",
              "          retweeted_status_id  retweeted_user_id retweeted_user_screen_name  \\\n",
              "0         1369225839246602241         2336306731              TAFEeducation   \n",
              "1         1325485291352813568           18266688                  TomFitton   \n",
              "2         1325864840846598147          354041953              MattRinaldiTX   \n",
              "3         1335316050406232064           22677397                   atensnut   \n",
              "4         1351934625992630272          418867782                     K1erry   \n",
              "...                       ...                ...                        ...   \n",
              "12009810  1354886480674619394           39344374             DonaldJTrumpJr   \n",
              "12009811  1368713033661485057           39344374             DonaldJTrumpJr   \n",
              "12009812  1360287173560438786           39344374             DonaldJTrumpJr   \n",
              "12009813  1364197165141291011           39344374             DonaldJTrumpJr   \n",
              "12009814  1348645064008982529           39344374             DonaldJTrumpJr   \n",
              "\n",
              "          is_rt  \n",
              "0          True  \n",
              "1          True  \n",
              "2          True  \n",
              "3          True  \n",
              "4          True  \n",
              "...         ...  \n",
              "12009810   True  \n",
              "12009811   True  \n",
              "12009812   True  \n",
              "12009813   True  \n",
              "12009814   True  \n",
              "\n",
              "[12009815 rows x 15 columns]"
            ],
            "text/html": [
              "\n",
              "  <div id=\"df-cee71074-7090-4497-82fb-9e3683a2f658\" class=\"colab-df-container\">\n",
              "    <div>\n",
              "<style scoped>\n",
              "    .dataframe tbody tr th:only-of-type {\n",
              "        vertical-align: middle;\n",
              "    }\n",
              "\n",
              "    .dataframe tbody tr th {\n",
              "        vertical-align: top;\n",
              "    }\n",
              "\n",
              "    .dataframe thead th {\n",
              "        text-align: right;\n",
              "    }\n",
              "</style>\n",
              "<table border=\"1\" class=\"dataframe\">\n",
              "  <thead>\n",
              "    <tr style=\"text-align: right;\">\n",
              "      <th></th>\n",
              "      <th>user_id</th>\n",
              "      <th>status_id</th>\n",
              "      <th>status_text</th>\n",
              "      <th>geo</th>\n",
              "      <th>created_at</th>\n",
              "      <th>lookup_at</th>\n",
              "      <th>truncated</th>\n",
              "      <th>is_quote</th>\n",
              "      <th>reply_status_id</th>\n",
              "      <th>reply_user_id</th>\n",
              "      <th>is_reply</th>\n",
              "      <th>retweeted_status_id</th>\n",
              "      <th>retweeted_user_id</th>\n",
              "      <th>retweeted_user_screen_name</th>\n",
              "      <th>is_rt</th>\n",
              "    </tr>\n",
              "  </thead>\n",
              "  <tbody>\n",
              "    <tr>\n",
              "      <th>0</th>\n",
              "      <td>2733971311</td>\n",
              "      <td>1369380656766197771</td>\n",
              "      <td>RT @TAFEeducation: Be straight with us, Minist...</td>\n",
              "      <td>None</td>\n",
              "      <td>2021-03-09 20:12:45+00:00</td>\n",
              "      <td>2021-03-28 07:47:04+00:00</td>\n",
              "      <td>False</td>\n",
              "      <td>True</td>\n",
              "      <td>&lt;NA&gt;</td>\n",
              "      <td>&lt;NA&gt;</td>\n",
              "      <td>False</td>\n",
              "      <td>1369225839246602241</td>\n",
              "      <td>2336306731</td>\n",
              "      <td>TAFEeducation</td>\n",
              "      <td>True</td>\n",
              "    </tr>\n",
              "    <tr>\n",
              "      <th>1</th>\n",
              "      <td>2734066113</td>\n",
              "      <td>1325520341553336321</td>\n",
              "      <td>RT @TomFitton: Tom Fitton: @RealDonaldTrump wo...</td>\n",
              "      <td>None</td>\n",
              "      <td>2020-11-08 19:27:31+00:00</td>\n",
              "      <td>2021-02-13 16:23:42+00:00</td>\n",
              "      <td>False</td>\n",
              "      <td>False</td>\n",
              "      <td>&lt;NA&gt;</td>\n",
              "      <td>&lt;NA&gt;</td>\n",
              "      <td>False</td>\n",
              "      <td>1325485291352813568</td>\n",
              "      <td>18266688</td>\n",
              "      <td>TomFitton</td>\n",
              "      <td>True</td>\n",
              "    </tr>\n",
              "    <tr>\n",
              "      <th>2</th>\n",
              "      <td>2734066113</td>\n",
              "      <td>1325939383971753987</td>\n",
              "      <td>RT @MattRinaldiTX: This guy is on @JoeBiden’s ...</td>\n",
              "      <td>None</td>\n",
              "      <td>2020-11-09 23:12:38+00:00</td>\n",
              "      <td>2021-02-13 16:23:42+00:00</td>\n",
              "      <td>False</td>\n",
              "      <td>False</td>\n",
              "      <td>&lt;NA&gt;</td>\n",
              "      <td>&lt;NA&gt;</td>\n",
              "      <td>False</td>\n",
              "      <td>1325864840846598147</td>\n",
              "      <td>354041953</td>\n",
              "      <td>MattRinaldiTX</td>\n",
              "      <td>True</td>\n",
              "    </tr>\n",
              "    <tr>\n",
              "      <th>3</th>\n",
              "      <td>2734066113</td>\n",
              "      <td>1335319784821563396</td>\n",
              "      <td>RT @atensnut: Will Ruby Freeman be allowed any...</td>\n",
              "      <td>None</td>\n",
              "      <td>2020-12-05 20:27:00+00:00</td>\n",
              "      <td>2021-02-13 16:23:39+00:00</td>\n",
              "      <td>False</td>\n",
              "      <td>False</td>\n",
              "      <td>&lt;NA&gt;</td>\n",
              "      <td>&lt;NA&gt;</td>\n",
              "      <td>False</td>\n",
              "      <td>1335316050406232064</td>\n",
              "      <td>22677397</td>\n",
              "      <td>atensnut</td>\n",
              "      <td>True</td>\n",
              "    </tr>\n",
              "    <tr>\n",
              "      <th>4</th>\n",
              "      <td>2734066113</td>\n",
              "      <td>1351972312275443713</td>\n",
              "      <td>RT @K1erry: WaPo Finally Admits Trump DIDN'T I...</td>\n",
              "      <td>None</td>\n",
              "      <td>2021-01-20 19:18:12+00:00</td>\n",
              "      <td>2021-02-13 16:23:36+00:00</td>\n",
              "      <td>False</td>\n",
              "      <td>False</td>\n",
              "      <td>&lt;NA&gt;</td>\n",
              "      <td>&lt;NA&gt;</td>\n",
              "      <td>False</td>\n",
              "      <td>1351934625992630272</td>\n",
              "      <td>418867782</td>\n",
              "      <td>K1erry</td>\n",
              "      <td>True</td>\n",
              "    </tr>\n",
              "    <tr>\n",
              "      <th>...</th>\n",
              "      <td>...</td>\n",
              "      <td>...</td>\n",
              "      <td>...</td>\n",
              "      <td>...</td>\n",
              "      <td>...</td>\n",
              "      <td>...</td>\n",
              "      <td>...</td>\n",
              "      <td>...</td>\n",
              "      <td>...</td>\n",
              "      <td>...</td>\n",
              "      <td>...</td>\n",
              "      <td>...</td>\n",
              "      <td>...</td>\n",
              "      <td>...</td>\n",
              "      <td>...</td>\n",
              "    </tr>\n",
              "    <tr>\n",
              "      <th>12009810</th>\n",
              "      <td>809801490705612800</td>\n",
              "      <td>1355149896014127112</td>\n",
              "      <td>RT @DonaldJTrumpJr: Any Republican in Washingt...</td>\n",
              "      <td>None</td>\n",
              "      <td>2021-01-29 13:44:47+00:00</td>\n",
              "      <td>2021-04-12 13:20:49+00:00</td>\n",
              "      <td>False</td>\n",
              "      <td>False</td>\n",
              "      <td>&lt;NA&gt;</td>\n",
              "      <td>&lt;NA&gt;</td>\n",
              "      <td>False</td>\n",
              "      <td>1354886480674619394</td>\n",
              "      <td>39344374</td>\n",
              "      <td>DonaldJTrumpJr</td>\n",
              "      <td>True</td>\n",
              "    </tr>\n",
              "    <tr>\n",
              "      <th>12009811</th>\n",
              "      <td>811250837465006081</td>\n",
              "      <td>1368930001198911488</td>\n",
              "      <td>RT @DonaldJTrumpJr: Imagine how many more ther...</td>\n",
              "      <td>None</td>\n",
              "      <td>2021-03-08 14:22:00+00:00</td>\n",
              "      <td>2021-05-06 02:08:24+00:00</td>\n",
              "      <td>False</td>\n",
              "      <td>True</td>\n",
              "      <td>&lt;NA&gt;</td>\n",
              "      <td>&lt;NA&gt;</td>\n",
              "      <td>False</td>\n",
              "      <td>1368713033661485057</td>\n",
              "      <td>39344374</td>\n",
              "      <td>DonaldJTrumpJr</td>\n",
              "      <td>True</td>\n",
              "    </tr>\n",
              "    <tr>\n",
              "      <th>12009812</th>\n",
              "      <td>1067365741</td>\n",
              "      <td>1360288352927445002</td>\n",
              "      <td>RT @DonaldJTrumpJr: Trump impeachment trial --...</td>\n",
              "      <td>None</td>\n",
              "      <td>2021-02-12 18:03:10+00:00</td>\n",
              "      <td>2021-02-14 03:23:05+00:00</td>\n",
              "      <td>False</td>\n",
              "      <td>False</td>\n",
              "      <td>&lt;NA&gt;</td>\n",
              "      <td>&lt;NA&gt;</td>\n",
              "      <td>False</td>\n",
              "      <td>1360287173560438786</td>\n",
              "      <td>39344374</td>\n",
              "      <td>DonaldJTrumpJr</td>\n",
              "      <td>True</td>\n",
              "    </tr>\n",
              "    <tr>\n",
              "      <th>12009813</th>\n",
              "      <td>1069437140184981504</td>\n",
              "      <td>1364303479720747011</td>\n",
              "      <td>RT @DonaldJTrumpJr: You knew it was coming!!! ...</td>\n",
              "      <td>None</td>\n",
              "      <td>2021-02-23 19:57:51+00:00</td>\n",
              "      <td>2021-04-03 22:44:47+00:00</td>\n",
              "      <td>False</td>\n",
              "      <td>False</td>\n",
              "      <td>&lt;NA&gt;</td>\n",
              "      <td>&lt;NA&gt;</td>\n",
              "      <td>False</td>\n",
              "      <td>1364197165141291011</td>\n",
              "      <td>39344374</td>\n",
              "      <td>DonaldJTrumpJr</td>\n",
              "      <td>True</td>\n",
              "    </tr>\n",
              "    <tr>\n",
              "      <th>12009814</th>\n",
              "      <td>4869866260</td>\n",
              "      <td>1348662766668800004</td>\n",
              "      <td>RT @DonaldJTrumpJr: This times 1000 https://t....</td>\n",
              "      <td>None</td>\n",
              "      <td>2021-01-11 16:07:15+00:00</td>\n",
              "      <td>2021-02-14 08:39:07+00:00</td>\n",
              "      <td>False</td>\n",
              "      <td>True</td>\n",
              "      <td>&lt;NA&gt;</td>\n",
              "      <td>&lt;NA&gt;</td>\n",
              "      <td>False</td>\n",
              "      <td>1348645064008982529</td>\n",
              "      <td>39344374</td>\n",
              "      <td>DonaldJTrumpJr</td>\n",
              "      <td>True</td>\n",
              "    </tr>\n",
              "  </tbody>\n",
              "</table>\n",
              "<p>12009815 rows × 15 columns</p>\n",
              "</div>\n",
              "    <div class=\"colab-df-buttons\">\n",
              "\n",
              "  <div class=\"colab-df-container\">\n",
              "    <button class=\"colab-df-convert\" onclick=\"convertToInteractive('df-cee71074-7090-4497-82fb-9e3683a2f658')\"\n",
              "            title=\"Convert this dataframe to an interactive table.\"\n",
              "            style=\"display:none;\">\n",
              "\n",
              "  <svg xmlns=\"http://www.w3.org/2000/svg\" height=\"24px\" viewBox=\"0 -960 960 960\">\n",
              "    <path d=\"M120-120v-720h720v720H120Zm60-500h600v-160H180v160Zm220 220h160v-160H400v160Zm0 220h160v-160H400v160ZM180-400h160v-160H180v160Zm440 0h160v-160H620v160ZM180-180h160v-160H180v160Zm440 0h160v-160H620v160Z\"/>\n",
              "  </svg>\n",
              "    </button>\n",
              "\n",
              "  <style>\n",
              "    .colab-df-container {\n",
              "      display:flex;\n",
              "      gap: 12px;\n",
              "    }\n",
              "\n",
              "    .colab-df-convert {\n",
              "      background-color: #E8F0FE;\n",
              "      border: none;\n",
              "      border-radius: 50%;\n",
              "      cursor: pointer;\n",
              "      display: none;\n",
              "      fill: #1967D2;\n",
              "      height: 32px;\n",
              "      padding: 0 0 0 0;\n",
              "      width: 32px;\n",
              "    }\n",
              "\n",
              "    .colab-df-convert:hover {\n",
              "      background-color: #E2EBFA;\n",
              "      box-shadow: 0px 1px 2px rgba(60, 64, 67, 0.3), 0px 1px 3px 1px rgba(60, 64, 67, 0.15);\n",
              "      fill: #174EA6;\n",
              "    }\n",
              "\n",
              "    .colab-df-buttons div {\n",
              "      margin-bottom: 4px;\n",
              "    }\n",
              "\n",
              "    [theme=dark] .colab-df-convert {\n",
              "      background-color: #3B4455;\n",
              "      fill: #D2E3FC;\n",
              "    }\n",
              "\n",
              "    [theme=dark] .colab-df-convert:hover {\n",
              "      background-color: #434B5C;\n",
              "      box-shadow: 0px 1px 3px 1px rgba(0, 0, 0, 0.15);\n",
              "      filter: drop-shadow(0px 1px 2px rgba(0, 0, 0, 0.3));\n",
              "      fill: #FFFFFF;\n",
              "    }\n",
              "  </style>\n",
              "\n",
              "    <script>\n",
              "      const buttonEl =\n",
              "        document.querySelector('#df-cee71074-7090-4497-82fb-9e3683a2f658 button.colab-df-convert');\n",
              "      buttonEl.style.display =\n",
              "        google.colab.kernel.accessAllowed ? 'block' : 'none';\n",
              "\n",
              "      async function convertToInteractive(key) {\n",
              "        const element = document.querySelector('#df-cee71074-7090-4497-82fb-9e3683a2f658');\n",
              "        const dataTable =\n",
              "          await google.colab.kernel.invokeFunction('convertToInteractive',\n",
              "                                                    [key], {});\n",
              "        if (!dataTable) return;\n",
              "\n",
              "        const docLinkHtml = 'Like what you see? Visit the ' +\n",
              "          '<a target=\"_blank\" href=https://colab.research.google.com/notebooks/data_table.ipynb>data table notebook</a>'\n",
              "          + ' to learn more about interactive tables.';\n",
              "        element.innerHTML = '';\n",
              "        dataTable['output_type'] = 'display_data';\n",
              "        await google.colab.output.renderOutput(dataTable, element);\n",
              "        const docLink = document.createElement('div');\n",
              "        docLink.innerHTML = docLinkHtml;\n",
              "        element.appendChild(docLink);\n",
              "      }\n",
              "    </script>\n",
              "  </div>\n",
              "\n",
              "\n",
              "<div id=\"df-d13358e4-c2a9-4f5e-81a8-790225776a64\">\n",
              "  <button class=\"colab-df-quickchart\" onclick=\"quickchart('df-d13358e4-c2a9-4f5e-81a8-790225776a64')\"\n",
              "            title=\"Suggest charts\"\n",
              "            style=\"display:none;\">\n",
              "\n",
              "<svg xmlns=\"http://www.w3.org/2000/svg\" height=\"24px\"viewBox=\"0 0 24 24\"\n",
              "     width=\"24px\">\n",
              "    <g>\n",
              "        <path d=\"M19 3H5c-1.1 0-2 .9-2 2v14c0 1.1.9 2 2 2h14c1.1 0 2-.9 2-2V5c0-1.1-.9-2-2-2zM9 17H7v-7h2v7zm4 0h-2V7h2v10zm4 0h-2v-4h2v4z\"/>\n",
              "    </g>\n",
              "</svg>\n",
              "  </button>\n",
              "\n",
              "<style>\n",
              "  .colab-df-quickchart {\n",
              "      --bg-color: #E8F0FE;\n",
              "      --fill-color: #1967D2;\n",
              "      --hover-bg-color: #E2EBFA;\n",
              "      --hover-fill-color: #174EA6;\n",
              "      --disabled-fill-color: #AAA;\n",
              "      --disabled-bg-color: #DDD;\n",
              "  }\n",
              "\n",
              "  [theme=dark] .colab-df-quickchart {\n",
              "      --bg-color: #3B4455;\n",
              "      --fill-color: #D2E3FC;\n",
              "      --hover-bg-color: #434B5C;\n",
              "      --hover-fill-color: #FFFFFF;\n",
              "      --disabled-bg-color: #3B4455;\n",
              "      --disabled-fill-color: #666;\n",
              "  }\n",
              "\n",
              "  .colab-df-quickchart {\n",
              "    background-color: var(--bg-color);\n",
              "    border: none;\n",
              "    border-radius: 50%;\n",
              "    cursor: pointer;\n",
              "    display: none;\n",
              "    fill: var(--fill-color);\n",
              "    height: 32px;\n",
              "    padding: 0;\n",
              "    width: 32px;\n",
              "  }\n",
              "\n",
              "  .colab-df-quickchart:hover {\n",
              "    background-color: var(--hover-bg-color);\n",
              "    box-shadow: 0 1px 2px rgba(60, 64, 67, 0.3), 0 1px 3px 1px rgba(60, 64, 67, 0.15);\n",
              "    fill: var(--button-hover-fill-color);\n",
              "  }\n",
              "\n",
              "  .colab-df-quickchart-complete:disabled,\n",
              "  .colab-df-quickchart-complete:disabled:hover {\n",
              "    background-color: var(--disabled-bg-color);\n",
              "    fill: var(--disabled-fill-color);\n",
              "    box-shadow: none;\n",
              "  }\n",
              "\n",
              "  .colab-df-spinner {\n",
              "    border: 2px solid var(--fill-color);\n",
              "    border-color: transparent;\n",
              "    border-bottom-color: var(--fill-color);\n",
              "    animation:\n",
              "      spin 1s steps(1) infinite;\n",
              "  }\n",
              "\n",
              "  @keyframes spin {\n",
              "    0% {\n",
              "      border-color: transparent;\n",
              "      border-bottom-color: var(--fill-color);\n",
              "      border-left-color: var(--fill-color);\n",
              "    }\n",
              "    20% {\n",
              "      border-color: transparent;\n",
              "      border-left-color: var(--fill-color);\n",
              "      border-top-color: var(--fill-color);\n",
              "    }\n",
              "    30% {\n",
              "      border-color: transparent;\n",
              "      border-left-color: var(--fill-color);\n",
              "      border-top-color: var(--fill-color);\n",
              "      border-right-color: var(--fill-color);\n",
              "    }\n",
              "    40% {\n",
              "      border-color: transparent;\n",
              "      border-right-color: var(--fill-color);\n",
              "      border-top-color: var(--fill-color);\n",
              "    }\n",
              "    60% {\n",
              "      border-color: transparent;\n",
              "      border-right-color: var(--fill-color);\n",
              "    }\n",
              "    80% {\n",
              "      border-color: transparent;\n",
              "      border-right-color: var(--fill-color);\n",
              "      border-bottom-color: var(--fill-color);\n",
              "    }\n",
              "    90% {\n",
              "      border-color: transparent;\n",
              "      border-bottom-color: var(--fill-color);\n",
              "    }\n",
              "  }\n",
              "</style>\n",
              "\n",
              "  <script>\n",
              "    async function quickchart(key) {\n",
              "      const quickchartButtonEl =\n",
              "        document.querySelector('#' + key + ' button');\n",
              "      quickchartButtonEl.disabled = true;  // To prevent multiple clicks.\n",
              "      quickchartButtonEl.classList.add('colab-df-spinner');\n",
              "      try {\n",
              "        const charts = await google.colab.kernel.invokeFunction(\n",
              "            'suggestCharts', [key], {});\n",
              "      } catch (error) {\n",
              "        console.error('Error during call to suggestCharts:', error);\n",
              "      }\n",
              "      quickchartButtonEl.classList.remove('colab-df-spinner');\n",
              "      quickchartButtonEl.classList.add('colab-df-quickchart-complete');\n",
              "    }\n",
              "    (() => {\n",
              "      let quickchartButtonEl =\n",
              "        document.querySelector('#df-d13358e4-c2a9-4f5e-81a8-790225776a64 button');\n",
              "      quickchartButtonEl.style.display =\n",
              "        google.colab.kernel.accessAllowed ? 'block' : 'none';\n",
              "    })();\n",
              "  </script>\n",
              "</div>\n",
              "\n",
              "  <div id=\"id_95989e7a-b5f3-4dbb-8a8a-2b305dbba506\">\n",
              "    <style>\n",
              "      .colab-df-generate {\n",
              "        background-color: #E8F0FE;\n",
              "        border: none;\n",
              "        border-radius: 50%;\n",
              "        cursor: pointer;\n",
              "        display: none;\n",
              "        fill: #1967D2;\n",
              "        height: 32px;\n",
              "        padding: 0 0 0 0;\n",
              "        width: 32px;\n",
              "      }\n",
              "\n",
              "      .colab-df-generate:hover {\n",
              "        background-color: #E2EBFA;\n",
              "        box-shadow: 0px 1px 2px rgba(60, 64, 67, 0.3), 0px 1px 3px 1px rgba(60, 64, 67, 0.15);\n",
              "        fill: #174EA6;\n",
              "      }\n",
              "\n",
              "      [theme=dark] .colab-df-generate {\n",
              "        background-color: #3B4455;\n",
              "        fill: #D2E3FC;\n",
              "      }\n",
              "\n",
              "      [theme=dark] .colab-df-generate:hover {\n",
              "        background-color: #434B5C;\n",
              "        box-shadow: 0px 1px 3px 1px rgba(0, 0, 0, 0.15);\n",
              "        filter: drop-shadow(0px 1px 2px rgba(0, 0, 0, 0.3));\n",
              "        fill: #FFFFFF;\n",
              "      }\n",
              "    </style>\n",
              "    <button class=\"colab-df-generate\" onclick=\"generateWithVariable('df')\"\n",
              "            title=\"Generate code using this dataframe.\"\n",
              "            style=\"display:none;\">\n",
              "\n",
              "  <svg xmlns=\"http://www.w3.org/2000/svg\" height=\"24px\"viewBox=\"0 0 24 24\"\n",
              "       width=\"24px\">\n",
              "    <path d=\"M7,19H8.4L18.45,9,17,7.55,7,17.6ZM5,21V16.75L18.45,3.32a2,2,0,0,1,2.83,0l1.4,1.43a1.91,1.91,0,0,1,.58,1.4,1.91,1.91,0,0,1-.58,1.4L9.25,21ZM18.45,9,17,7.55Zm-12,3A5.31,5.31,0,0,0,4.9,8.1,5.31,5.31,0,0,0,1,6.5,5.31,5.31,0,0,0,4.9,4.9,5.31,5.31,0,0,0,6.5,1,5.31,5.31,0,0,0,8.1,4.9,5.31,5.31,0,0,0,12,6.5,5.46,5.46,0,0,0,6.5,12Z\"/>\n",
              "  </svg>\n",
              "    </button>\n",
              "    <script>\n",
              "      (() => {\n",
              "      const buttonEl =\n",
              "        document.querySelector('#id_95989e7a-b5f3-4dbb-8a8a-2b305dbba506 button.colab-df-generate');\n",
              "      buttonEl.style.display =\n",
              "        google.colab.kernel.accessAllowed ? 'block' : 'none';\n",
              "\n",
              "      buttonEl.onclick = () => {\n",
              "        google.colab.notebook.generateWithVariable('df');\n",
              "      }\n",
              "      })();\n",
              "    </script>\n",
              "  </div>\n",
              "\n",
              "    </div>\n",
              "  </div>\n"
            ],
            "application/vnd.google.colaboratory.intrinsic+json": {
              "type": "dataframe",
              "variable_name": "df"
            }
          },
          "metadata": {},
          "execution_count": 8
        }
      ]
    },
    {
      "cell_type": "code",
      "metadata": {
        "colab": {
          "base_uri": "https://localhost:8080/"
        },
        "id": "Cxf2wpC-q1RN",
        "outputId": "fdfc32d0-1d2b-43c1-9afd-8835b2e067a9"
      },
      "source": [
        "df.columns.tolist()"
      ],
      "execution_count": 9,
      "outputs": [
        {
          "output_type": "execute_result",
          "data": {
            "text/plain": [
              "['user_id',\n",
              " 'status_id',\n",
              " 'status_text',\n",
              " 'geo',\n",
              " 'created_at',\n",
              " 'lookup_at',\n",
              " 'truncated',\n",
              " 'is_quote',\n",
              " 'reply_status_id',\n",
              " 'reply_user_id',\n",
              " 'is_reply',\n",
              " 'retweeted_status_id',\n",
              " 'retweeted_user_id',\n",
              " 'retweeted_user_screen_name',\n",
              " 'is_rt']"
            ]
          },
          "metadata": {},
          "execution_count": 9
        }
      ]
    },
    {
      "cell_type": "code",
      "metadata": {
        "colab": {
          "base_uri": "https://localhost:8080/"
        },
        "id": "mZ24-gnMq9xA",
        "outputId": "b453347c-6388-4f28-b47b-50bac0b0aa70"
      },
      "source": [
        "df.info()"
      ],
      "execution_count": 10,
      "outputs": [
        {
          "output_type": "stream",
          "name": "stdout",
          "text": [
            "<class 'pandas.core.frame.DataFrame'>\n",
            "RangeIndex: 12009815 entries, 0 to 12009814\n",
            "Data columns (total 15 columns):\n",
            " #   Column                      Dtype              \n",
            "---  ------                      -----              \n",
            " 0   user_id                     Int64              \n",
            " 1   status_id                   Int64              \n",
            " 2   status_text                 object             \n",
            " 3   geo                         object             \n",
            " 4   created_at                  datetime64[ns, UTC]\n",
            " 5   lookup_at                   datetime64[ns, UTC]\n",
            " 6   truncated                   boolean            \n",
            " 7   is_quote                    boolean            \n",
            " 8   reply_status_id             Int64              \n",
            " 9   reply_user_id               Int64              \n",
            " 10  is_reply                    boolean            \n",
            " 11  retweeted_status_id         Int64              \n",
            " 12  retweeted_user_id           Int64              \n",
            " 13  retweeted_user_screen_name  object             \n",
            " 14  is_rt                       boolean            \n",
            "dtypes: Int64(6), boolean(4), datetime64[ns, UTC](2), object(3)\n",
            "memory usage: 1.1+ GB\n"
          ]
        }
      ]
    },
    {
      "cell_type": "code",
      "metadata": {
        "colab": {
          "base_uri": "https://localhost:8080/"
        },
        "id": "YZHAJFU9q4Qr",
        "outputId": "47962e83-7154-4606-99fa-03280a6aca30"
      },
      "source": [
        "df.dtypes"
      ],
      "execution_count": 11,
      "outputs": [
        {
          "output_type": "execute_result",
          "data": {
            "text/plain": [
              "user_id                                     Int64\n",
              "status_id                                   Int64\n",
              "status_text                                object\n",
              "geo                                        object\n",
              "created_at                    datetime64[ns, UTC]\n",
              "lookup_at                     datetime64[ns, UTC]\n",
              "truncated                                 boolean\n",
              "is_quote                                  boolean\n",
              "reply_status_id                             Int64\n",
              "reply_user_id                               Int64\n",
              "is_reply                                  boolean\n",
              "retweeted_status_id                         Int64\n",
              "retweeted_user_id                           Int64\n",
              "retweeted_user_screen_name                 object\n",
              "is_rt                                     boolean\n",
              "dtype: object"
            ]
          },
          "metadata": {},
          "execution_count": 11
        }
      ]
    },
    {
      "cell_type": "code",
      "source": [
        "df.iloc[0][\"status_text\"]"
      ],
      "metadata": {
        "colab": {
          "base_uri": "https://localhost:8080/",
          "height": 52
        },
        "id": "hF_Gxwt972Qd",
        "outputId": "50b4fb92-625a-46da-e4ca-110632d8d3a5"
      },
      "execution_count": 12,
      "outputs": [
        {
          "output_type": "execute_result",
          "data": {
            "text/plain": [
              "'RT @TAFEeducation: Be straight with us, Minister @GeoffLeeMP. Will you or won’t you sell Bega TAFE? Seems you close a local TAFE college ev…'"
            ],
            "application/vnd.google.colaboratory.intrinsic+json": {
              "type": "string"
            }
          },
          "metadata": {},
          "execution_count": 12
        }
      ]
    },
    {
      "cell_type": "code",
      "source": [
        "users_pivot = df.groupby(\"user_id\")[\"status_id\"].count().sort_values(ascending=False)\n",
        "users_pivot"
      ],
      "metadata": {
        "colab": {
          "base_uri": "https://localhost:8080/"
        },
        "id": "hqpPDRE48CDN",
        "outputId": "cfdf2724-aaab-45b7-e38d-6a53c0562a72"
      },
      "execution_count": 13,
      "outputs": [
        {
          "output_type": "execute_result",
          "data": {
            "text/plain": [
              "user_id\n",
              "1226463888             6309\n",
              "759855850496389120     6022\n",
              "1211080316070195201    5760\n",
              "4372515753             5002\n",
              "1196634077526417414    4784\n",
              "                       ... \n",
              "2423655841               25\n",
              "1168940599346683905      21\n",
              "835537291405832192       19\n",
              "713829760959381504        6\n",
              "1115685588944875520       2\n",
              "Name: status_id, Length: 4718, dtype: int64"
            ]
          },
          "metadata": {},
          "execution_count": 13
        }
      ]
    },
    {
      "cell_type": "code",
      "source": [
        "# drop duplicates:\n",
        "\n",
        "print(len(df))\n",
        "df.drop_duplicates(subset=[\"status_id\"], keep=\"last\", inplace=True)\n",
        "print(len(df))"
      ],
      "metadata": {
        "colab": {
          "base_uri": "https://localhost:8080/"
        },
        "id": "fdfIWWEDPqWU",
        "outputId": "906088d7-6194-4fd0-d1de-beef24aa69ce"
      },
      "execution_count": 14,
      "outputs": [
        {
          "output_type": "stream",
          "name": "stdout",
          "text": [
            "12009815\n",
            "11982573\n"
          ]
        }
      ]
    },
    {
      "cell_type": "markdown",
      "source": [
        "### Exporting to Drive"
      ],
      "metadata": {
        "id": "ZrcVKgf88S4K"
      }
    },
    {
      "cell_type": "code",
      "source": [
        "import os\n",
        "from google.colab import drive\n",
        "\n",
        "drive.mount('/content/drive')\n"
      ],
      "metadata": {
        "colab": {
          "base_uri": "https://localhost:8080/"
        },
        "id": "i_eMkJ5fpKDp",
        "outputId": "e6fe1ced-678b-4faa-b3f1-f7e75b4af1a9"
      },
      "execution_count": 15,
      "outputs": [
        {
          "output_type": "stream",
          "name": "stdout",
          "text": [
            "Mounted at /content/drive\n"
          ]
        }
      ]
    },
    {
      "cell_type": "code",
      "execution_count": 16,
      "metadata": {
        "colab": {
          "base_uri": "https://localhost:8080/"
        },
        "id": "5OKjyFQ0owen",
        "outputId": "ae794037-3a93-49ff-fd47-56b6f37bba65"
      },
      "outputs": [
        {
          "output_type": "execute_result",
          "data": {
            "text/plain": [
              "True"
            ]
          },
          "metadata": {},
          "execution_count": 16
        }
      ],
      "source": [
        "# you might need to create a google drive SHORTCUT that has this same path\n",
        "# ... or update the path to use your own google drive organization\n",
        "DIRPATH = '/content/drive/MyDrive/Research/DS Research Shared 2024'\n",
        "os.path.isdir(DIRPATH)"
      ]
    },
    {
      "cell_type": "code",
      "source": [
        "DATA_DIRPATH = os.path.join(DIRPATH, \"projects\", \"Disinformation 2021 Embeddings\", \"data\")\n",
        "os.path.isdir(DATA_DIRPATH)"
      ],
      "metadata": {
        "colab": {
          "base_uri": "https://localhost:8080/"
        },
        "id": "5mbFGvZt8813",
        "outputId": "0f6d1f73-ece8-4927-847f-107e20cbafe0"
      },
      "execution_count": 17,
      "outputs": [
        {
          "output_type": "execute_result",
          "data": {
            "text/plain": [
              "True"
            ]
          },
          "metadata": {},
          "execution_count": 17
        }
      ]
    },
    {
      "cell_type": "code",
      "source": [
        "#csv_filepath = os.path.join(DATA_DIRPATH, \"q_user_timeline_tweets.csv.gz\")\n",
        "#df.to_csv(csv_filepath, index=False, compression=\"gzip\")"
      ],
      "metadata": {
        "id": "nV9uhveQp2mi"
      },
      "execution_count": 18,
      "outputs": []
    },
    {
      "cell_type": "code",
      "source": [
        "pq_filepath = os.path.join(DATA_DIRPATH, \"q_user_timeline_tweets.parquet.gz\")\n",
        "\n",
        "df.to_parquet(pq_filepath, index=False, compression=\"gzip\")"
      ],
      "metadata": {
        "id": "8Id9JnKY9Y3I"
      },
      "execution_count": 19,
      "outputs": []
    }
  ]
}